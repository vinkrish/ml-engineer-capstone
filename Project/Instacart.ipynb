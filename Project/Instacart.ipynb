{
 "cells": [
  {
   "cell_type": "markdown",
   "metadata": {},
   "source": [
    "# Machine Learning Engineer Nanodegree\n",
    "\n",
    "## Predict which products will an Instacart consumer purchase again\n",
    "\n",
    "\n",
    "### Project Navigation:\n",
    "\n",
    "- <a href=\"#definition\">Definition</a>\n",
    "- <a href=\"#analysis\">Analysis</a>\n",
    "- <a href=\"#methodology\">Methodology</a>\n",
    "- <a href=\"#results\">Results</a>\n",
    "- <a href=\"#conclusion\">Conclusion</a>\n",
    "\n",
    "## Definition <a id=\"definition\"></a>\n",
    "\n",
    "### Project Overview\n",
    "\n",
    "Instacart is an online grocery delivery service provider. The main objective of this project is to use data on customer orders over time to predict which previously purchased products will be in a user’s next order.\n",
    "\n",
    "The dataset consists of relational set of files describing customer’s orders over time. The dataset is anonymised and contains a sample of over 3 million grocery orders from more than 200,000 Instacart users. For each user there is between 4 and 100 of their orders, with the sequence of products purchased in each order.\n",
    "\n",
    "The entity that are provided includes:\n",
    "\n",
    "- Aisles\n",
    "- Departments\n",
    "- Order_Products_Prior\n",
    "- Order_Products_Train\n",
    "- Orders\n",
    "- Products\n",
    "\n",
    "### Problem Statement\n",
    "\n",
    "Same day delivery service for online orders are becoming more common, in order to meet the consumer demand there is a need for better understanding of:\n",
    "- Where the customer are located\n",
    "- From which store orders are being placed\n",
    "- What items are being bought\n",
    "- How many items are repeated in subsequent orders\n",
    "- Frequency of orders\n",
    "\n",
    "Original input dataset is transformed to correlate relationship between product and consumer’s buying pattern. This transformed dataset is used as input to our model.\n",
    "\n",
    "Inputs to our model will be feature dataset extracted along with label specifying whether product is reordered or not - thus this can be seen as classification problem having 2 labels and output tells probability of product being ordered again for future orders.\n",
    "\n",
    "### Metrics\n",
    "\n",
    "Since our dataset is not balanced we will be using F-Score as evaluation metrics, F score is the Harmonic mean between precision and recall. The greater the F score, the better is the performance of our model, which is defines as follows:\n",
    "\n",
    "\n",
    "`F = ((1+beta**2)*TruePositive) / (((1+beta**2)*TruePositive) + beta**2*FalseNegative+FalsePositive)`\n",
    "\n",
    "Where,\n",
    "```\n",
    "True Positive = correctly predicted the product in next order\n",
    "True Negatives = correctly predicted the product not in next order\n",
    "False Positive = wrongly predicted the product in next order\n",
    "False Negative = failed to predict the product in next order\n",
    "```"
   ]
  },
  {
   "cell_type": "markdown",
   "metadata": {},
   "source": [
    "## Analysis <a id=\"analysis\"></a>\n",
    "\n",
    "### Importing necessary library"
   ]
  },
  {
   "cell_type": "code",
   "execution_count": 1,
   "metadata": {},
   "outputs": [],
   "source": [
    "import numpy as np\n",
    "import pandas as pd\n",
    "import seaborn as sns\n",
    "import matplotlib.pyplot as plt\n",
    "import csv\n",
    "\n",
    "%matplotlib inline"
   ]
  },
  {
   "cell_type": "markdown",
   "metadata": {},
   "source": [
    "### Load all data files"
   ]
  },
  {
   "cell_type": "code",
   "execution_count": 2,
   "metadata": {},
   "outputs": [],
   "source": [
    "df_aisles = pd.read_csv('dataset/aisles.csv')\n",
    "df_departments = pd.read_csv('dataset/departments.csv')\n",
    "df_order_products_prior = pd.read_csv('dataset/order_products__prior.csv')\n",
    "df_order_products_train = pd.read_csv('dataset/order_products__train.csv')\n",
    "df_orders = pd.read_csv('dataset/orders.csv')\n",
    "df_products = pd.read_csv('dataset/products.csv')"
   ]
  },
  {
   "cell_type": "markdown",
   "metadata": {},
   "source": [
    "### Data Exploration\n",
    "\n",
    "#### Sampling of the data, check for duplicates & missing fields\n",
    "\n",
    "### Aisles"
   ]
  },
  {
   "cell_type": "code",
   "execution_count": 3,
   "metadata": {},
   "outputs": [
    {
     "data": {
      "text/html": [
       "<div>\n",
       "<style scoped>\n",
       "    .dataframe tbody tr th:only-of-type {\n",
       "        vertical-align: middle;\n",
       "    }\n",
       "\n",
       "    .dataframe tbody tr th {\n",
       "        vertical-align: top;\n",
       "    }\n",
       "\n",
       "    .dataframe thead th {\n",
       "        text-align: right;\n",
       "    }\n",
       "</style>\n",
       "<table border=\"1\" class=\"dataframe\">\n",
       "  <thead>\n",
       "    <tr style=\"text-align: right;\">\n",
       "      <th></th>\n",
       "      <th>aisle_id</th>\n",
       "      <th>aisle</th>\n",
       "    </tr>\n",
       "  </thead>\n",
       "  <tbody>\n",
       "    <tr>\n",
       "      <th>0</th>\n",
       "      <td>1</td>\n",
       "      <td>prepared soups salads</td>\n",
       "    </tr>\n",
       "    <tr>\n",
       "      <th>1</th>\n",
       "      <td>2</td>\n",
       "      <td>specialty cheeses</td>\n",
       "    </tr>\n",
       "    <tr>\n",
       "      <th>2</th>\n",
       "      <td>3</td>\n",
       "      <td>energy granola bars</td>\n",
       "    </tr>\n",
       "    <tr>\n",
       "      <th>3</th>\n",
       "      <td>4</td>\n",
       "      <td>instant foods</td>\n",
       "    </tr>\n",
       "    <tr>\n",
       "      <th>4</th>\n",
       "      <td>5</td>\n",
       "      <td>marinades meat preparation</td>\n",
       "    </tr>\n",
       "  </tbody>\n",
       "</table>\n",
       "</div>"
      ],
      "text/plain": [
       "   aisle_id                       aisle\n",
       "0         1       prepared soups salads\n",
       "1         2           specialty cheeses\n",
       "2         3         energy granola bars\n",
       "3         4               instant foods\n",
       "4         5  marinades meat preparation"
      ]
     },
     "execution_count": 3,
     "metadata": {},
     "output_type": "execute_result"
    }
   ],
   "source": [
    "df_aisles.head()"
   ]
  },
  {
   "cell_type": "code",
   "execution_count": 4,
   "metadata": {},
   "outputs": [
    {
     "data": {
      "text/plain": [
       "(134, 2)"
      ]
     },
     "execution_count": 4,
     "metadata": {},
     "output_type": "execute_result"
    }
   ],
   "source": [
    "df_aisles.shape"
   ]
  },
  {
   "cell_type": "code",
   "execution_count": 5,
   "metadata": {},
   "outputs": [
    {
     "data": {
      "text/plain": [
       "0"
      ]
     },
     "execution_count": 5,
     "metadata": {},
     "output_type": "execute_result"
    }
   ],
   "source": [
    "sum(df_aisles.duplicated())"
   ]
  },
  {
   "cell_type": "code",
   "execution_count": 6,
   "metadata": {},
   "outputs": [
    {
     "data": {
      "text/plain": [
       "aisle_id    0\n",
       "aisle       0\n",
       "dtype: int64"
      ]
     },
     "execution_count": 6,
     "metadata": {},
     "output_type": "execute_result"
    }
   ],
   "source": [
    "df_aisles.isnull().sum()"
   ]
  },
  {
   "cell_type": "markdown",
   "metadata": {},
   "source": [
    "Contains no duplicates and missing values, and has total of 134 aisles which are being used in products entity representing where respective product is placed.\n",
    "\n",
    "### Departments"
   ]
  },
  {
   "cell_type": "code",
   "execution_count": 7,
   "metadata": {},
   "outputs": [
    {
     "data": {
      "text/html": [
       "<div>\n",
       "<style scoped>\n",
       "    .dataframe tbody tr th:only-of-type {\n",
       "        vertical-align: middle;\n",
       "    }\n",
       "\n",
       "    .dataframe tbody tr th {\n",
       "        vertical-align: top;\n",
       "    }\n",
       "\n",
       "    .dataframe thead th {\n",
       "        text-align: right;\n",
       "    }\n",
       "</style>\n",
       "<table border=\"1\" class=\"dataframe\">\n",
       "  <thead>\n",
       "    <tr style=\"text-align: right;\">\n",
       "      <th></th>\n",
       "      <th>department_id</th>\n",
       "      <th>department</th>\n",
       "    </tr>\n",
       "  </thead>\n",
       "  <tbody>\n",
       "    <tr>\n",
       "      <th>0</th>\n",
       "      <td>1</td>\n",
       "      <td>frozen</td>\n",
       "    </tr>\n",
       "    <tr>\n",
       "      <th>1</th>\n",
       "      <td>2</td>\n",
       "      <td>other</td>\n",
       "    </tr>\n",
       "    <tr>\n",
       "      <th>2</th>\n",
       "      <td>3</td>\n",
       "      <td>bakery</td>\n",
       "    </tr>\n",
       "    <tr>\n",
       "      <th>3</th>\n",
       "      <td>4</td>\n",
       "      <td>produce</td>\n",
       "    </tr>\n",
       "    <tr>\n",
       "      <th>4</th>\n",
       "      <td>5</td>\n",
       "      <td>alcohol</td>\n",
       "    </tr>\n",
       "  </tbody>\n",
       "</table>\n",
       "</div>"
      ],
      "text/plain": [
       "   department_id department\n",
       "0              1     frozen\n",
       "1              2      other\n",
       "2              3     bakery\n",
       "3              4    produce\n",
       "4              5    alcohol"
      ]
     },
     "execution_count": 7,
     "metadata": {},
     "output_type": "execute_result"
    }
   ],
   "source": [
    "df_departments.head()"
   ]
  },
  {
   "cell_type": "code",
   "execution_count": 8,
   "metadata": {},
   "outputs": [
    {
     "data": {
      "text/plain": [
       "(21, 2)"
      ]
     },
     "execution_count": 8,
     "metadata": {},
     "output_type": "execute_result"
    }
   ],
   "source": [
    "df_departments.shape"
   ]
  },
  {
   "cell_type": "code",
   "execution_count": 9,
   "metadata": {},
   "outputs": [
    {
     "data": {
      "text/plain": [
       "0"
      ]
     },
     "execution_count": 9,
     "metadata": {},
     "output_type": "execute_result"
    }
   ],
   "source": [
    "sum(df_departments.duplicated())"
   ]
  },
  {
   "cell_type": "code",
   "execution_count": 10,
   "metadata": {},
   "outputs": [
    {
     "data": {
      "text/plain": [
       "department_id    0\n",
       "department       0\n",
       "dtype: int64"
      ]
     },
     "execution_count": 10,
     "metadata": {},
     "output_type": "execute_result"
    }
   ],
   "source": [
    "df_departments.isnull().sum()"
   ]
  },
  {
   "cell_type": "markdown",
   "metadata": {},
   "source": [
    "Contains no duplicates and missing values, and has total of 21 departments which are being used in products entity representing how products are grouped based on their properties.\n",
    "\n",
    "### order_products_prior"
   ]
  },
  {
   "cell_type": "code",
   "execution_count": 11,
   "metadata": {},
   "outputs": [
    {
     "data": {
      "text/html": [
       "<div>\n",
       "<style scoped>\n",
       "    .dataframe tbody tr th:only-of-type {\n",
       "        vertical-align: middle;\n",
       "    }\n",
       "\n",
       "    .dataframe tbody tr th {\n",
       "        vertical-align: top;\n",
       "    }\n",
       "\n",
       "    .dataframe thead th {\n",
       "        text-align: right;\n",
       "    }\n",
       "</style>\n",
       "<table border=\"1\" class=\"dataframe\">\n",
       "  <thead>\n",
       "    <tr style=\"text-align: right;\">\n",
       "      <th></th>\n",
       "      <th>order_id</th>\n",
       "      <th>product_id</th>\n",
       "      <th>add_to_cart_order</th>\n",
       "      <th>reordered</th>\n",
       "    </tr>\n",
       "  </thead>\n",
       "  <tbody>\n",
       "    <tr>\n",
       "      <th>0</th>\n",
       "      <td>2</td>\n",
       "      <td>33120</td>\n",
       "      <td>1</td>\n",
       "      <td>1</td>\n",
       "    </tr>\n",
       "    <tr>\n",
       "      <th>1</th>\n",
       "      <td>2</td>\n",
       "      <td>28985</td>\n",
       "      <td>2</td>\n",
       "      <td>1</td>\n",
       "    </tr>\n",
       "    <tr>\n",
       "      <th>2</th>\n",
       "      <td>2</td>\n",
       "      <td>9327</td>\n",
       "      <td>3</td>\n",
       "      <td>0</td>\n",
       "    </tr>\n",
       "    <tr>\n",
       "      <th>3</th>\n",
       "      <td>2</td>\n",
       "      <td>45918</td>\n",
       "      <td>4</td>\n",
       "      <td>1</td>\n",
       "    </tr>\n",
       "    <tr>\n",
       "      <th>4</th>\n",
       "      <td>2</td>\n",
       "      <td>30035</td>\n",
       "      <td>5</td>\n",
       "      <td>0</td>\n",
       "    </tr>\n",
       "  </tbody>\n",
       "</table>\n",
       "</div>"
      ],
      "text/plain": [
       "   order_id  product_id  add_to_cart_order  reordered\n",
       "0         2       33120                  1          1\n",
       "1         2       28985                  2          1\n",
       "2         2        9327                  3          0\n",
       "3         2       45918                  4          1\n",
       "4         2       30035                  5          0"
      ]
     },
     "execution_count": 11,
     "metadata": {},
     "output_type": "execute_result"
    }
   ],
   "source": [
    "df_order_products_prior.head()"
   ]
  },
  {
   "cell_type": "code",
   "execution_count": 12,
   "metadata": {},
   "outputs": [
    {
     "data": {
      "text/plain": [
       "(32434489, 4)"
      ]
     },
     "execution_count": 12,
     "metadata": {},
     "output_type": "execute_result"
    }
   ],
   "source": [
    "df_order_products_prior.shape"
   ]
  },
  {
   "cell_type": "code",
   "execution_count": 13,
   "metadata": {},
   "outputs": [
    {
     "data": {
      "text/plain": [
       "0"
      ]
     },
     "execution_count": 13,
     "metadata": {},
     "output_type": "execute_result"
    }
   ],
   "source": [
    "sum(df_order_products_prior.duplicated())"
   ]
  },
  {
   "cell_type": "code",
   "execution_count": 14,
   "metadata": {},
   "outputs": [
    {
     "data": {
      "text/plain": [
       "order_id             0\n",
       "product_id           0\n",
       "add_to_cart_order    0\n",
       "reordered            0\n",
       "dtype: int64"
      ]
     },
     "execution_count": 14,
     "metadata": {},
     "output_type": "execute_result"
    }
   ],
   "source": [
    "df_order_products_prior.isnull().sum()"
   ]
  },
  {
   "cell_type": "markdown",
   "metadata": {},
   "source": [
    "Constains products in each order (which are marked prior in **eval_set**)\n",
    "\n",
    "### order_products_train"
   ]
  },
  {
   "cell_type": "code",
   "execution_count": 15,
   "metadata": {},
   "outputs": [
    {
     "data": {
      "text/html": [
       "<div>\n",
       "<style scoped>\n",
       "    .dataframe tbody tr th:only-of-type {\n",
       "        vertical-align: middle;\n",
       "    }\n",
       "\n",
       "    .dataframe tbody tr th {\n",
       "        vertical-align: top;\n",
       "    }\n",
       "\n",
       "    .dataframe thead th {\n",
       "        text-align: right;\n",
       "    }\n",
       "</style>\n",
       "<table border=\"1\" class=\"dataframe\">\n",
       "  <thead>\n",
       "    <tr style=\"text-align: right;\">\n",
       "      <th></th>\n",
       "      <th>order_id</th>\n",
       "      <th>product_id</th>\n",
       "      <th>add_to_cart_order</th>\n",
       "      <th>reordered</th>\n",
       "    </tr>\n",
       "  </thead>\n",
       "  <tbody>\n",
       "    <tr>\n",
       "      <th>0</th>\n",
       "      <td>1</td>\n",
       "      <td>49302</td>\n",
       "      <td>1</td>\n",
       "      <td>1</td>\n",
       "    </tr>\n",
       "    <tr>\n",
       "      <th>1</th>\n",
       "      <td>1</td>\n",
       "      <td>11109</td>\n",
       "      <td>2</td>\n",
       "      <td>1</td>\n",
       "    </tr>\n",
       "    <tr>\n",
       "      <th>2</th>\n",
       "      <td>1</td>\n",
       "      <td>10246</td>\n",
       "      <td>3</td>\n",
       "      <td>0</td>\n",
       "    </tr>\n",
       "    <tr>\n",
       "      <th>3</th>\n",
       "      <td>1</td>\n",
       "      <td>49683</td>\n",
       "      <td>4</td>\n",
       "      <td>0</td>\n",
       "    </tr>\n",
       "    <tr>\n",
       "      <th>4</th>\n",
       "      <td>1</td>\n",
       "      <td>43633</td>\n",
       "      <td>5</td>\n",
       "      <td>1</td>\n",
       "    </tr>\n",
       "  </tbody>\n",
       "</table>\n",
       "</div>"
      ],
      "text/plain": [
       "   order_id  product_id  add_to_cart_order  reordered\n",
       "0         1       49302                  1          1\n",
       "1         1       11109                  2          1\n",
       "2         1       10246                  3          0\n",
       "3         1       49683                  4          0\n",
       "4         1       43633                  5          1"
      ]
     },
     "execution_count": 15,
     "metadata": {},
     "output_type": "execute_result"
    }
   ],
   "source": [
    "df_order_products_train.head()"
   ]
  },
  {
   "cell_type": "code",
   "execution_count": 16,
   "metadata": {},
   "outputs": [
    {
     "data": {
      "text/plain": [
       "(1384617, 4)"
      ]
     },
     "execution_count": 16,
     "metadata": {},
     "output_type": "execute_result"
    }
   ],
   "source": [
    "df_order_products_train.shape"
   ]
  },
  {
   "cell_type": "code",
   "execution_count": 17,
   "metadata": {},
   "outputs": [
    {
     "data": {
      "text/plain": [
       "0"
      ]
     },
     "execution_count": 17,
     "metadata": {},
     "output_type": "execute_result"
    }
   ],
   "source": [
    "sum(df_order_products_train.duplicated())"
   ]
  },
  {
   "cell_type": "code",
   "execution_count": 18,
   "metadata": {},
   "outputs": [
    {
     "data": {
      "text/plain": [
       "order_id             0\n",
       "product_id           0\n",
       "add_to_cart_order    0\n",
       "reordered            0\n",
       "dtype: int64"
      ]
     },
     "execution_count": 18,
     "metadata": {},
     "output_type": "execute_result"
    }
   ],
   "source": [
    "df_order_products_train.isnull().sum()"
   ]
  },
  {
   "cell_type": "markdown",
   "metadata": {},
   "source": [
    "Constains products in each order (which are marked train in **eval_set**)\n",
    "\n",
    "### Orders"
   ]
  },
  {
   "cell_type": "code",
   "execution_count": 19,
   "metadata": {},
   "outputs": [
    {
     "data": {
      "text/html": [
       "<div>\n",
       "<style scoped>\n",
       "    .dataframe tbody tr th:only-of-type {\n",
       "        vertical-align: middle;\n",
       "    }\n",
       "\n",
       "    .dataframe tbody tr th {\n",
       "        vertical-align: top;\n",
       "    }\n",
       "\n",
       "    .dataframe thead th {\n",
       "        text-align: right;\n",
       "    }\n",
       "</style>\n",
       "<table border=\"1\" class=\"dataframe\">\n",
       "  <thead>\n",
       "    <tr style=\"text-align: right;\">\n",
       "      <th></th>\n",
       "      <th>order_id</th>\n",
       "      <th>user_id</th>\n",
       "      <th>eval_set</th>\n",
       "      <th>order_number</th>\n",
       "      <th>order_dow</th>\n",
       "      <th>order_hour_of_day</th>\n",
       "      <th>days_since_prior_order</th>\n",
       "    </tr>\n",
       "  </thead>\n",
       "  <tbody>\n",
       "    <tr>\n",
       "      <th>0</th>\n",
       "      <td>2539329</td>\n",
       "      <td>1</td>\n",
       "      <td>prior</td>\n",
       "      <td>1</td>\n",
       "      <td>2</td>\n",
       "      <td>8</td>\n",
       "      <td>NaN</td>\n",
       "    </tr>\n",
       "    <tr>\n",
       "      <th>1</th>\n",
       "      <td>2398795</td>\n",
       "      <td>1</td>\n",
       "      <td>prior</td>\n",
       "      <td>2</td>\n",
       "      <td>3</td>\n",
       "      <td>7</td>\n",
       "      <td>15.0</td>\n",
       "    </tr>\n",
       "    <tr>\n",
       "      <th>2</th>\n",
       "      <td>473747</td>\n",
       "      <td>1</td>\n",
       "      <td>prior</td>\n",
       "      <td>3</td>\n",
       "      <td>3</td>\n",
       "      <td>12</td>\n",
       "      <td>21.0</td>\n",
       "    </tr>\n",
       "    <tr>\n",
       "      <th>3</th>\n",
       "      <td>2254736</td>\n",
       "      <td>1</td>\n",
       "      <td>prior</td>\n",
       "      <td>4</td>\n",
       "      <td>4</td>\n",
       "      <td>7</td>\n",
       "      <td>29.0</td>\n",
       "    </tr>\n",
       "    <tr>\n",
       "      <th>4</th>\n",
       "      <td>431534</td>\n",
       "      <td>1</td>\n",
       "      <td>prior</td>\n",
       "      <td>5</td>\n",
       "      <td>4</td>\n",
       "      <td>15</td>\n",
       "      <td>28.0</td>\n",
       "    </tr>\n",
       "  </tbody>\n",
       "</table>\n",
       "</div>"
      ],
      "text/plain": [
       "   order_id  user_id eval_set  order_number  order_dow  order_hour_of_day  \\\n",
       "0   2539329        1    prior             1          2                  8   \n",
       "1   2398795        1    prior             2          3                  7   \n",
       "2    473747        1    prior             3          3                 12   \n",
       "3   2254736        1    prior             4          4                  7   \n",
       "4    431534        1    prior             5          4                 15   \n",
       "\n",
       "   days_since_prior_order  \n",
       "0                     NaN  \n",
       "1                    15.0  \n",
       "2                    21.0  \n",
       "3                    29.0  \n",
       "4                    28.0  "
      ]
     },
     "execution_count": 19,
     "metadata": {},
     "output_type": "execute_result"
    }
   ],
   "source": [
    "df_orders.head()"
   ]
  },
  {
   "cell_type": "code",
   "execution_count": 20,
   "metadata": {},
   "outputs": [
    {
     "data": {
      "text/plain": [
       "(3421083, 7)"
      ]
     },
     "execution_count": 20,
     "metadata": {},
     "output_type": "execute_result"
    }
   ],
   "source": [
    "df_orders.shape"
   ]
  },
  {
   "cell_type": "code",
   "execution_count": 21,
   "metadata": {},
   "outputs": [
    {
     "data": {
      "text/plain": [
       "206209"
      ]
     },
     "execution_count": 21,
     "metadata": {},
     "output_type": "execute_result"
    }
   ],
   "source": [
    "df_orders['user_id'].nunique()"
   ]
  },
  {
   "cell_type": "code",
   "execution_count": 22,
   "metadata": {},
   "outputs": [
    {
     "data": {
      "text/plain": [
       "0"
      ]
     },
     "execution_count": 22,
     "metadata": {},
     "output_type": "execute_result"
    }
   ],
   "source": [
    "sum(df_orders.duplicated())"
   ]
  },
  {
   "cell_type": "code",
   "execution_count": 23,
   "metadata": {},
   "outputs": [
    {
     "data": {
      "text/plain": [
       "order_id                       0\n",
       "user_id                        0\n",
       "eval_set                       0\n",
       "order_number                   0\n",
       "order_dow                      0\n",
       "order_hour_of_day              0\n",
       "days_since_prior_order    206209\n",
       "dtype: int64"
      ]
     },
     "execution_count": 23,
     "metadata": {},
     "output_type": "execute_result"
    }
   ],
   "source": [
    "df_orders.isnull().sum()"
   ]
  },
  {
   "cell_type": "code",
   "execution_count": 24,
   "metadata": {},
   "outputs": [
    {
     "data": {
      "text/html": [
       "<div>\n",
       "<style scoped>\n",
       "    .dataframe tbody tr th:only-of-type {\n",
       "        vertical-align: middle;\n",
       "    }\n",
       "\n",
       "    .dataframe tbody tr th {\n",
       "        vertical-align: top;\n",
       "    }\n",
       "\n",
       "    .dataframe thead th {\n",
       "        text-align: right;\n",
       "    }\n",
       "</style>\n",
       "<table border=\"1\" class=\"dataframe\">\n",
       "  <thead>\n",
       "    <tr style=\"text-align: right;\">\n",
       "      <th></th>\n",
       "      <th>order_id</th>\n",
       "      <th>user_id</th>\n",
       "      <th>eval_set</th>\n",
       "      <th>order_number</th>\n",
       "      <th>order_dow</th>\n",
       "      <th>order_hour_of_day</th>\n",
       "      <th>days_since_prior_order</th>\n",
       "    </tr>\n",
       "  </thead>\n",
       "  <tbody>\n",
       "    <tr>\n",
       "      <th>0</th>\n",
       "      <td>2539329</td>\n",
       "      <td>1</td>\n",
       "      <td>prior</td>\n",
       "      <td>1</td>\n",
       "      <td>2</td>\n",
       "      <td>8</td>\n",
       "      <td>NaN</td>\n",
       "    </tr>\n",
       "    <tr>\n",
       "      <th>11</th>\n",
       "      <td>2168274</td>\n",
       "      <td>2</td>\n",
       "      <td>prior</td>\n",
       "      <td>1</td>\n",
       "      <td>2</td>\n",
       "      <td>11</td>\n",
       "      <td>NaN</td>\n",
       "    </tr>\n",
       "    <tr>\n",
       "      <th>26</th>\n",
       "      <td>1374495</td>\n",
       "      <td>3</td>\n",
       "      <td>prior</td>\n",
       "      <td>1</td>\n",
       "      <td>1</td>\n",
       "      <td>14</td>\n",
       "      <td>NaN</td>\n",
       "    </tr>\n",
       "    <tr>\n",
       "      <th>39</th>\n",
       "      <td>3343014</td>\n",
       "      <td>4</td>\n",
       "      <td>prior</td>\n",
       "      <td>1</td>\n",
       "      <td>6</td>\n",
       "      <td>11</td>\n",
       "      <td>NaN</td>\n",
       "    </tr>\n",
       "    <tr>\n",
       "      <th>45</th>\n",
       "      <td>2717275</td>\n",
       "      <td>5</td>\n",
       "      <td>prior</td>\n",
       "      <td>1</td>\n",
       "      <td>3</td>\n",
       "      <td>12</td>\n",
       "      <td>NaN</td>\n",
       "    </tr>\n",
       "  </tbody>\n",
       "</table>\n",
       "</div>"
      ],
      "text/plain": [
       "    order_id  user_id eval_set  order_number  order_dow  order_hour_of_day  \\\n",
       "0    2539329        1    prior             1          2                  8   \n",
       "11   2168274        2    prior             1          2                 11   \n",
       "26   1374495        3    prior             1          1                 14   \n",
       "39   3343014        4    prior             1          6                 11   \n",
       "45   2717275        5    prior             1          3                 12   \n",
       "\n",
       "    days_since_prior_order  \n",
       "0                      NaN  \n",
       "11                     NaN  \n",
       "26                     NaN  \n",
       "39                     NaN  \n",
       "45                     NaN  "
      ]
     },
     "execution_count": 24,
     "metadata": {},
     "output_type": "execute_result"
    }
   ],
   "source": [
    "df_orders[df_orders.days_since_prior_order.isnull()].head()"
   ]
  },
  {
   "cell_type": "markdown",
   "metadata": {},
   "source": [
    "- Total of 3,421,083 orders were made on Instacart\n",
    "- 206,209 unique customers\n",
    "- Contains no duplicates and if customer is purchasing for first time then **days_since_prior_order** will be NaN"
   ]
  },
  {
   "cell_type": "markdown",
   "metadata": {},
   "source": [
    "### Products"
   ]
  },
  {
   "cell_type": "code",
   "execution_count": 25,
   "metadata": {},
   "outputs": [
    {
     "data": {
      "text/html": [
       "<div>\n",
       "<style scoped>\n",
       "    .dataframe tbody tr th:only-of-type {\n",
       "        vertical-align: middle;\n",
       "    }\n",
       "\n",
       "    .dataframe tbody tr th {\n",
       "        vertical-align: top;\n",
       "    }\n",
       "\n",
       "    .dataframe thead th {\n",
       "        text-align: right;\n",
       "    }\n",
       "</style>\n",
       "<table border=\"1\" class=\"dataframe\">\n",
       "  <thead>\n",
       "    <tr style=\"text-align: right;\">\n",
       "      <th></th>\n",
       "      <th>product_id</th>\n",
       "      <th>product_name</th>\n",
       "      <th>aisle_id</th>\n",
       "      <th>department_id</th>\n",
       "    </tr>\n",
       "  </thead>\n",
       "  <tbody>\n",
       "    <tr>\n",
       "      <th>0</th>\n",
       "      <td>1</td>\n",
       "      <td>Chocolate Sandwich Cookies</td>\n",
       "      <td>61</td>\n",
       "      <td>19</td>\n",
       "    </tr>\n",
       "    <tr>\n",
       "      <th>1</th>\n",
       "      <td>2</td>\n",
       "      <td>All-Seasons Salt</td>\n",
       "      <td>104</td>\n",
       "      <td>13</td>\n",
       "    </tr>\n",
       "    <tr>\n",
       "      <th>2</th>\n",
       "      <td>3</td>\n",
       "      <td>Robust Golden Unsweetened Oolong Tea</td>\n",
       "      <td>94</td>\n",
       "      <td>7</td>\n",
       "    </tr>\n",
       "    <tr>\n",
       "      <th>3</th>\n",
       "      <td>4</td>\n",
       "      <td>Smart Ones Classic Favorites Mini Rigatoni Wit...</td>\n",
       "      <td>38</td>\n",
       "      <td>1</td>\n",
       "    </tr>\n",
       "    <tr>\n",
       "      <th>4</th>\n",
       "      <td>5</td>\n",
       "      <td>Green Chile Anytime Sauce</td>\n",
       "      <td>5</td>\n",
       "      <td>13</td>\n",
       "    </tr>\n",
       "  </tbody>\n",
       "</table>\n",
       "</div>"
      ],
      "text/plain": [
       "   product_id                                       product_name  aisle_id  \\\n",
       "0           1                         Chocolate Sandwich Cookies        61   \n",
       "1           2                                   All-Seasons Salt       104   \n",
       "2           3               Robust Golden Unsweetened Oolong Tea        94   \n",
       "3           4  Smart Ones Classic Favorites Mini Rigatoni Wit...        38   \n",
       "4           5                          Green Chile Anytime Sauce         5   \n",
       "\n",
       "   department_id  \n",
       "0             19  \n",
       "1             13  \n",
       "2              7  \n",
       "3              1  \n",
       "4             13  "
      ]
     },
     "execution_count": 25,
     "metadata": {},
     "output_type": "execute_result"
    }
   ],
   "source": [
    "df_products.head()"
   ]
  },
  {
   "cell_type": "code",
   "execution_count": 26,
   "metadata": {},
   "outputs": [
    {
     "data": {
      "text/plain": [
       "(49688, 4)"
      ]
     },
     "execution_count": 26,
     "metadata": {},
     "output_type": "execute_result"
    }
   ],
   "source": [
    "df_products.shape"
   ]
  },
  {
   "cell_type": "code",
   "execution_count": 27,
   "metadata": {},
   "outputs": [
    {
     "data": {
      "text/plain": [
       "0"
      ]
     },
     "execution_count": 27,
     "metadata": {},
     "output_type": "execute_result"
    }
   ],
   "source": [
    "sum(df_products.duplicated())"
   ]
  },
  {
   "cell_type": "code",
   "execution_count": 28,
   "metadata": {},
   "outputs": [
    {
     "data": {
      "text/plain": [
       "product_id       0\n",
       "product_name     0\n",
       "aisle_id         0\n",
       "department_id    0\n",
       "dtype: int64"
      ]
     },
     "execution_count": 28,
     "metadata": {},
     "output_type": "execute_result"
    }
   ],
   "source": [
    "df_products.isnull().sum()"
   ]
  },
  {
   "cell_type": "markdown",
   "metadata": {},
   "source": [
    "Total of 49,688 products were sold on Instacart, contains no duplicates and missing values."
   ]
  },
  {
   "cell_type": "markdown",
   "metadata": {},
   "source": [
    "### Exploratory Visualization\n",
    "\n",
    "Looking at the Orders, we have **eval_set** which describes whether that respective order is treated as training or testing, Orders which are marked **prior** can be treated as training set."
   ]
  },
  {
   "cell_type": "markdown",
   "metadata": {},
   "source": [
    "#### 1. Count Orders type"
   ]
  },
  {
   "cell_type": "code",
   "execution_count": 29,
   "metadata": {},
   "outputs": [
    {
     "name": "stdout",
     "output_type": "stream",
     "text": [
      "prior    3214874\n",
      "train     131209\n",
      "test       75000\n",
      "Name: eval_set, dtype: int64\n"
     ]
    }
   ],
   "source": [
    "orders_type= df_orders['eval_set'].value_counts()\n",
    "print(orders_type)"
   ]
  },
  {
   "cell_type": "code",
   "execution_count": 30,
   "metadata": {},
   "outputs": [
    {
     "data": {
      "image/png": "[encoded data removed]",
      "text/plain": [
       "<Figure size 432x432 with 1 Axes>"
      ]
     },
     "metadata": {
      "needs_background": "light"
     },
     "output_type": "display_data"
    }
   ],
   "source": [
    "# plotting the above count\n",
    "plt.figure(figsize=(6,6))\n",
    "sns.barplot(orders_type.index, orders_type.values)\n",
    "plt.xlabel('Eval type')\n",
    "plt.ylabel('Number of Orders')\n",
    "plt.show();"
   ]
  },
  {
   "cell_type": "markdown",
   "metadata": {},
   "source": [
    "#### 2. At what time customers are making orders"
   ]
  },
  {
   "cell_type": "code",
   "execution_count": 31,
   "metadata": {},
   "outputs": [
    {
     "data": {
      "image/png": "[encoded data removed]",
      "text/plain": [
       "<Figure size 720x432 with 1 Axes>"
      ]
     },
     "metadata": {
      "needs_background": "light"
     },
     "output_type": "display_data"
    }
   ],
   "source": [
    "order_hour_count = df_orders['order_hour_of_day'].value_counts()\n",
    "\n",
    "plt.figure(figsize=(10,6))\n",
    "sns.barplot(order_hour_count.index, order_hour_count.values)\n",
    "plt.ylabel('Number of Orders', fontsize=12)\n",
    "plt.xlabel('Hour of Day', fontsize=12)\n",
    "plt.title('Orders time', fontsize=15)\n",
    "plt.show()"
   ]
  },
  {
   "cell_type": "markdown",
   "metadata": {},
   "source": [
    "_Inference_: Looking at the graph it's clear that most orders were made during 7am to 8pm."
   ]
  },
  {
   "cell_type": "markdown",
   "metadata": {},
   "source": [
    "#### 3. On what day of a week customers are making orders"
   ]
  },
  {
   "cell_type": "code",
   "execution_count": 32,
   "metadata": {},
   "outputs": [
    {
     "data": {
      "image/png": "[encoded data removed]",
      "text/plain": [
       "<Figure size 720x432 with 1 Axes>"
      ]
     },
     "metadata": {
      "needs_background": "light"
     },
     "output_type": "display_data"
    }
   ],
   "source": [
    "order_day = df_orders['order_dow'].value_counts()\n",
    "\n",
    "plt.figure(figsize=(10,6))\n",
    "sns.barplot(order_day.index, order_day.values)\n",
    "plt.ylabel('Number of Orders', fontsize=12)\n",
    "plt.xlabel('Day of week', fontsize=12)\n",
    "plt.title('Orders Day', fontsize=15)\n",
    "plt.show()"
   ]
  },
  {
   "cell_type": "markdown",
   "metadata": {},
   "source": [
    "_Inference_: Assuming Week starts on Sunday (as no official comment being made on this), customers are buying relatively more on Sunday and Monday."
   ]
  },
  {
   "cell_type": "markdown",
   "metadata": {},
   "source": [
    "#### 4. Number of orders grouped by count"
   ]
  },
  {
   "cell_type": "code",
   "execution_count": 33,
   "metadata": {},
   "outputs": [
    {
     "data": {
      "image/png": "[encoded data removed]",
      "text/plain": [
       "<Figure size 1152x504 with 1 Axes>"
      ]
     },
     "metadata": {
      "needs_background": "light"
     },
     "output_type": "display_data"
    }
   ],
   "source": [
    "split_orders_count = df_orders.groupby('user_id')['order_number'].agg('max').reset_index()\n",
    "split_orders_count = split_orders_count['order_number'].value_counts()\n",
    "\n",
    "plt.figure(figsize=(16,7))\n",
    "sns.barplot(split_orders_count.index, split_orders_count.values)\n",
    "plt.ylabel('Count', fontsize=12)\n",
    "plt.xlabel('Maximum number of Orders', fontsize=12)\n",
    "plt.title('Customer orders count', fontsize=15)\n",
    "plt.xticks(rotation='vertical')\n",
    "plt.show()"
   ]
  },
  {
   "cell_type": "markdown",
   "metadata": {},
   "source": [
    "Above plot indicates distribution orders count from all customers.\n",
    "\n",
    "- 24,000 orders were by customers who had total order count 4\n",
    "- 5,000 orders were by cutomers who had total order count 15"
   ]
  },
  {
   "cell_type": "markdown",
   "metadata": {},
   "source": [
    "#### 5. When the next order is placed"
   ]
  },
  {
   "cell_type": "code",
   "execution_count": 34,
   "metadata": {},
   "outputs": [
    {
     "data": {
      "image/png": "[encoded data removed]",
      "text/plain": [
       "<Figure size 1080x504 with 1 Axes>"
      ]
     },
     "metadata": {
      "needs_background": "light"
     },
     "output_type": "display_data"
    }
   ],
   "source": [
    "days_since_prior_order = df_orders['days_since_prior_order'].value_counts()\n",
    "\n",
    "plt.figure(figsize=(15,7))\n",
    "sns.barplot(days_since_prior_order.index, days_since_prior_order.values)\n",
    "plt.ylabel('Number of Orders', fontsize=12)\n",
    "plt.xlabel('Days', fontsize=12)\n",
    "plt.title('Days since prior order', fontsize=15)\n",
    "plt.show()"
   ]
  },
  {
   "cell_type": "markdown",
   "metadata": {},
   "source": [
    "_Inference_: More customers are ordering again between day 1 - day 15 and on 30th day from their last order date."
   ]
  },
  {
   "cell_type": "markdown",
   "metadata": {},
   "source": [
    "#### 6. Percentage of products being reordered"
   ]
  },
  {
   "cell_type": "code",
   "execution_count": 35,
   "metadata": {},
   "outputs": [
    {
     "data": {
      "text/plain": [
       "0.5896974667922161"
      ]
     },
     "execution_count": 35,
     "metadata": {},
     "output_type": "execute_result"
    }
   ],
   "source": [
    "# In order_products_prior\n",
    "len(df_order_products_prior.query('reordered==1'))/df_order_products_prior.shape[0]"
   ]
  },
  {
   "cell_type": "code",
   "execution_count": 36,
   "metadata": {},
   "outputs": [
    {
     "data": {
      "text/plain": [
       "0.5985944127509629"
      ]
     },
     "execution_count": 36,
     "metadata": {},
     "output_type": "execute_result"
    }
   ],
   "source": [
    "# In order_proudcts_train\n",
    "len(df_order_products_train.query('reordered==1'))/df_order_products_train.shape[0]"
   ]
  },
  {
   "cell_type": "markdown",
   "metadata": {},
   "source": [
    "Around 59% of products on each order being made are repeated products."
   ]
  },
  {
   "cell_type": "markdown",
   "metadata": {},
   "source": [
    "#### 7. Number of products in each order"
   ]
  },
  {
   "cell_type": "code",
   "execution_count": 37,
   "metadata": {},
   "outputs": [
    {
     "data": {
      "image/png": "[encoded data removed]",
      "text/plain": [
       "<Figure size 1152x504 with 1 Axes>"
      ]
     },
     "metadata": {
      "needs_background": "light"
     },
     "output_type": "display_data"
    }
   ],
   "source": [
    "order_products_count = df_order_products_prior.groupby('order_id')['add_to_cart_order'].agg('max').reset_index()\n",
    "order_products_cnt = order_products_count['add_to_cart_order'].value_counts().loc[lambda x : x>100] \n",
    "\n",
    "plt.figure(figsize=(16,7))\n",
    "sns.barplot(order_products_cnt.index, order_products_cnt.values)\n",
    "plt.ylabel('Number of Occurences', fontsize=12)\n",
    "plt.xlabel('Number of products', fontsize=12)\n",
    "plt.title('Count of products bought together', fontsize=15)\n",
    "plt.xticks(rotation='vertical')\n",
    "plt.show()"
   ]
  },
  {
   "cell_type": "markdown",
   "metadata": {},
   "source": [
    "It is observed in above graph that most orders have products between 1 and 20."
   ]
  },
  {
   "cell_type": "markdown",
   "metadata": {},
   "source": [
    "Ignoring orders which has total products count less than 100, this is just for convenience to view graph"
   ]
  },
  {
   "cell_type": "code",
   "execution_count": 38,
   "metadata": {},
   "outputs": [
    {
     "data": {
      "text/plain": [
       "62    79\n",
       "63    67\n",
       "64    57\n",
       "65    53\n",
       "66    49\n",
       "Name: add_to_cart_order, dtype: int64"
      ]
     },
     "execution_count": 38,
     "metadata": {},
     "output_type": "execute_result"
    }
   ],
   "source": [
    "order_products_count['add_to_cart_order'].value_counts().loc[lambda x : x<100].head()"
   ]
  },
  {
   "cell_type": "markdown",
   "metadata": {},
   "source": [
    "#### 8. Which products are bought more"
   ]
  },
  {
   "cell_type": "code",
   "execution_count": 39,
   "metadata": {},
   "outputs": [],
   "source": [
    "products_prior = pd.merge(left=df_order_products_prior, right=df_orders, on='order_id')\n",
    "products_prior = pd.merge(left=products_prior, right=df_products, on='product_id')"
   ]
  },
  {
   "cell_type": "code",
   "execution_count": 40,
   "metadata": {},
   "outputs": [
    {
     "name": "stdout",
     "output_type": "stream",
     "text": [
      "(32434489, 13)\n"
     ]
    },
    {
     "data": {
      "text/html": [
       "<div>\n",
       "<style scoped>\n",
       "    .dataframe tbody tr th:only-of-type {\n",
       "        vertical-align: middle;\n",
       "    }\n",
       "\n",
       "    .dataframe tbody tr th {\n",
       "        vertical-align: top;\n",
       "    }\n",
       "\n",
       "    .dataframe thead th {\n",
       "        text-align: right;\n",
       "    }\n",
       "</style>\n",
       "<table border=\"1\" class=\"dataframe\">\n",
       "  <thead>\n",
       "    <tr style=\"text-align: right;\">\n",
       "      <th></th>\n",
       "      <th>order_id</th>\n",
       "      <th>product_id</th>\n",
       "      <th>add_to_cart_order</th>\n",
       "      <th>reordered</th>\n",
       "      <th>user_id</th>\n",
       "      <th>eval_set</th>\n",
       "      <th>order_number</th>\n",
       "      <th>order_dow</th>\n",
       "      <th>order_hour_of_day</th>\n",
       "      <th>days_since_prior_order</th>\n",
       "      <th>product_name</th>\n",
       "      <th>aisle_id</th>\n",
       "      <th>department_id</th>\n",
       "    </tr>\n",
       "  </thead>\n",
       "  <tbody>\n",
       "    <tr>\n",
       "      <th>0</th>\n",
       "      <td>2</td>\n",
       "      <td>33120</td>\n",
       "      <td>1</td>\n",
       "      <td>1</td>\n",
       "      <td>202279</td>\n",
       "      <td>prior</td>\n",
       "      <td>3</td>\n",
       "      <td>5</td>\n",
       "      <td>9</td>\n",
       "      <td>8.0</td>\n",
       "      <td>Organic Egg Whites</td>\n",
       "      <td>86</td>\n",
       "      <td>16</td>\n",
       "    </tr>\n",
       "    <tr>\n",
       "      <th>1</th>\n",
       "      <td>26</td>\n",
       "      <td>33120</td>\n",
       "      <td>5</td>\n",
       "      <td>0</td>\n",
       "      <td>153404</td>\n",
       "      <td>prior</td>\n",
       "      <td>2</td>\n",
       "      <td>0</td>\n",
       "      <td>16</td>\n",
       "      <td>7.0</td>\n",
       "      <td>Organic Egg Whites</td>\n",
       "      <td>86</td>\n",
       "      <td>16</td>\n",
       "    </tr>\n",
       "    <tr>\n",
       "      <th>2</th>\n",
       "      <td>120</td>\n",
       "      <td>33120</td>\n",
       "      <td>13</td>\n",
       "      <td>0</td>\n",
       "      <td>23750</td>\n",
       "      <td>prior</td>\n",
       "      <td>11</td>\n",
       "      <td>6</td>\n",
       "      <td>8</td>\n",
       "      <td>10.0</td>\n",
       "      <td>Organic Egg Whites</td>\n",
       "      <td>86</td>\n",
       "      <td>16</td>\n",
       "    </tr>\n",
       "    <tr>\n",
       "      <th>3</th>\n",
       "      <td>327</td>\n",
       "      <td>33120</td>\n",
       "      <td>5</td>\n",
       "      <td>1</td>\n",
       "      <td>58707</td>\n",
       "      <td>prior</td>\n",
       "      <td>21</td>\n",
       "      <td>6</td>\n",
       "      <td>9</td>\n",
       "      <td>8.0</td>\n",
       "      <td>Organic Egg Whites</td>\n",
       "      <td>86</td>\n",
       "      <td>16</td>\n",
       "    </tr>\n",
       "    <tr>\n",
       "      <th>4</th>\n",
       "      <td>390</td>\n",
       "      <td>33120</td>\n",
       "      <td>28</td>\n",
       "      <td>1</td>\n",
       "      <td>166654</td>\n",
       "      <td>prior</td>\n",
       "      <td>48</td>\n",
       "      <td>0</td>\n",
       "      <td>12</td>\n",
       "      <td>9.0</td>\n",
       "      <td>Organic Egg Whites</td>\n",
       "      <td>86</td>\n",
       "      <td>16</td>\n",
       "    </tr>\n",
       "  </tbody>\n",
       "</table>\n",
       "</div>"
      ],
      "text/plain": [
       "   order_id  product_id  add_to_cart_order  reordered  user_id eval_set  \\\n",
       "0         2       33120                  1          1   202279    prior   \n",
       "1        26       33120                  5          0   153404    prior   \n",
       "2       120       33120                 13          0    23750    prior   \n",
       "3       327       33120                  5          1    58707    prior   \n",
       "4       390       33120                 28          1   166654    prior   \n",
       "\n",
       "   order_number  order_dow  order_hour_of_day  days_since_prior_order  \\\n",
       "0             3          5                  9                     8.0   \n",
       "1             2          0                 16                     7.0   \n",
       "2            11          6                  8                    10.0   \n",
       "3            21          6                  9                     8.0   \n",
       "4            48          0                 12                     9.0   \n",
       "\n",
       "         product_name  aisle_id  department_id  \n",
       "0  Organic Egg Whites        86             16  \n",
       "1  Organic Egg Whites        86             16  \n",
       "2  Organic Egg Whites        86             16  \n",
       "3  Organic Egg Whites        86             16  \n",
       "4  Organic Egg Whites        86             16  "
      ]
     },
     "execution_count": 40,
     "metadata": {},
     "output_type": "execute_result"
    }
   ],
   "source": [
    "# user_products = pd.concat([products_prior, products_train])\n",
    "\n",
    "print(products_prior.shape)\n",
    "products_prior.head()"
   ]
  },
  {
   "cell_type": "code",
   "execution_count": 41,
   "metadata": {},
   "outputs": [
    {
     "data": {
      "text/plain": [
       "Banana                      472565\n",
       "Bag of Organic Bananas      379450\n",
       "Organic Strawberries        264683\n",
       "Organic Baby Spinach        241921\n",
       "Organic Hass Avocado        213584\n",
       "Organic Avocado             176815\n",
       "Large Lemon                 152657\n",
       "Strawberries                142951\n",
       "Limes                       140627\n",
       "Organic Whole Milk          137905\n",
       "Organic Raspberries         137057\n",
       "Organic Yellow Onion        113426\n",
       "Organic Garlic              109778\n",
       "Organic Zucchini            104823\n",
       "Organic Blueberries         100060\n",
       "Cucumber Kirby               97315\n",
       "Organic Fuji Apple           89632\n",
       "Organic Lemon                87746\n",
       "Apple Honeycrisp Organic     85020\n",
       "Organic Grape Tomatoes       84255\n",
       "Name: product_name, dtype: int64"
      ]
     },
     "execution_count": 41,
     "metadata": {},
     "output_type": "execute_result"
    }
   ],
   "source": [
    "common_products = products_prior['product_name'].value_counts().head(20)\n",
    "common_products"
   ]
  },
  {
   "cell_type": "markdown",
   "metadata": {},
   "source": [
    "Interestingly Organic fruits are sold in large numbers."
   ]
  },
  {
   "cell_type": "markdown",
   "metadata": {},
   "source": [
    "#### 9. Which department selling more"
   ]
  },
  {
   "cell_type": "code",
   "execution_count": 42,
   "metadata": {},
   "outputs": [
    {
     "data": {
      "text/html": [
       "<div>\n",
       "<style scoped>\n",
       "    .dataframe tbody tr th:only-of-type {\n",
       "        vertical-align: middle;\n",
       "    }\n",
       "\n",
       "    .dataframe tbody tr th {\n",
       "        vertical-align: top;\n",
       "    }\n",
       "\n",
       "    .dataframe thead th {\n",
       "        text-align: right;\n",
       "    }\n",
       "</style>\n",
       "<table border=\"1\" class=\"dataframe\">\n",
       "  <thead>\n",
       "    <tr style=\"text-align: right;\">\n",
       "      <th></th>\n",
       "      <th>order_id</th>\n",
       "      <th>product_id</th>\n",
       "      <th>add_to_cart_order</th>\n",
       "      <th>reordered</th>\n",
       "      <th>user_id</th>\n",
       "      <th>eval_set</th>\n",
       "      <th>order_number</th>\n",
       "      <th>order_dow</th>\n",
       "      <th>order_hour_of_day</th>\n",
       "      <th>days_since_prior_order</th>\n",
       "      <th>product_name</th>\n",
       "      <th>aisle_id</th>\n",
       "      <th>department_id</th>\n",
       "      <th>department</th>\n",
       "    </tr>\n",
       "  </thead>\n",
       "  <tbody>\n",
       "    <tr>\n",
       "      <th>0</th>\n",
       "      <td>2</td>\n",
       "      <td>33120</td>\n",
       "      <td>1</td>\n",
       "      <td>1</td>\n",
       "      <td>202279</td>\n",
       "      <td>prior</td>\n",
       "      <td>3</td>\n",
       "      <td>5</td>\n",
       "      <td>9</td>\n",
       "      <td>8.0</td>\n",
       "      <td>Organic Egg Whites</td>\n",
       "      <td>86</td>\n",
       "      <td>16</td>\n",
       "      <td>dairy eggs</td>\n",
       "    </tr>\n",
       "    <tr>\n",
       "      <th>1</th>\n",
       "      <td>26</td>\n",
       "      <td>33120</td>\n",
       "      <td>5</td>\n",
       "      <td>0</td>\n",
       "      <td>153404</td>\n",
       "      <td>prior</td>\n",
       "      <td>2</td>\n",
       "      <td>0</td>\n",
       "      <td>16</td>\n",
       "      <td>7.0</td>\n",
       "      <td>Organic Egg Whites</td>\n",
       "      <td>86</td>\n",
       "      <td>16</td>\n",
       "      <td>dairy eggs</td>\n",
       "    </tr>\n",
       "    <tr>\n",
       "      <th>2</th>\n",
       "      <td>120</td>\n",
       "      <td>33120</td>\n",
       "      <td>13</td>\n",
       "      <td>0</td>\n",
       "      <td>23750</td>\n",
       "      <td>prior</td>\n",
       "      <td>11</td>\n",
       "      <td>6</td>\n",
       "      <td>8</td>\n",
       "      <td>10.0</td>\n",
       "      <td>Organic Egg Whites</td>\n",
       "      <td>86</td>\n",
       "      <td>16</td>\n",
       "      <td>dairy eggs</td>\n",
       "    </tr>\n",
       "    <tr>\n",
       "      <th>3</th>\n",
       "      <td>327</td>\n",
       "      <td>33120</td>\n",
       "      <td>5</td>\n",
       "      <td>1</td>\n",
       "      <td>58707</td>\n",
       "      <td>prior</td>\n",
       "      <td>21</td>\n",
       "      <td>6</td>\n",
       "      <td>9</td>\n",
       "      <td>8.0</td>\n",
       "      <td>Organic Egg Whites</td>\n",
       "      <td>86</td>\n",
       "      <td>16</td>\n",
       "      <td>dairy eggs</td>\n",
       "    </tr>\n",
       "    <tr>\n",
       "      <th>4</th>\n",
       "      <td>390</td>\n",
       "      <td>33120</td>\n",
       "      <td>28</td>\n",
       "      <td>1</td>\n",
       "      <td>166654</td>\n",
       "      <td>prior</td>\n",
       "      <td>48</td>\n",
       "      <td>0</td>\n",
       "      <td>12</td>\n",
       "      <td>9.0</td>\n",
       "      <td>Organic Egg Whites</td>\n",
       "      <td>86</td>\n",
       "      <td>16</td>\n",
       "      <td>dairy eggs</td>\n",
       "    </tr>\n",
       "  </tbody>\n",
       "</table>\n",
       "</div>"
      ],
      "text/plain": [
       "   order_id  product_id  add_to_cart_order  reordered  user_id eval_set  \\\n",
       "0         2       33120                  1          1   202279    prior   \n",
       "1        26       33120                  5          0   153404    prior   \n",
       "2       120       33120                 13          0    23750    prior   \n",
       "3       327       33120                  5          1    58707    prior   \n",
       "4       390       33120                 28          1   166654    prior   \n",
       "\n",
       "   order_number  order_dow  order_hour_of_day  days_since_prior_order  \\\n",
       "0             3          5                  9                     8.0   \n",
       "1             2          0                 16                     7.0   \n",
       "2            11          6                  8                    10.0   \n",
       "3            21          6                  9                     8.0   \n",
       "4            48          0                 12                     9.0   \n",
       "\n",
       "         product_name  aisle_id  department_id  department  \n",
       "0  Organic Egg Whites        86             16  dairy eggs  \n",
       "1  Organic Egg Whites        86             16  dairy eggs  \n",
       "2  Organic Egg Whites        86             16  dairy eggs  \n",
       "3  Organic Egg Whites        86             16  dairy eggs  \n",
       "4  Organic Egg Whites        86             16  dairy eggs  "
      ]
     },
     "execution_count": 42,
     "metadata": {},
     "output_type": "execute_result"
    }
   ],
   "source": [
    "products_prior = pd.merge(left=products_prior, right=df_departments, on='department_id')\n",
    "products_prior.head()"
   ]
  },
  {
   "cell_type": "code",
   "execution_count": 43,
   "metadata": {},
   "outputs": [
    {
     "data": {
      "image/png": "[encoded data removed]",
      "text/plain": [
       "<Figure size 1080x504 with 1 Axes>"
      ]
     },
     "metadata": {
      "needs_background": "light"
     },
     "output_type": "display_data"
    }
   ],
   "source": [
    "department_orders = products_prior['department'].value_counts()\n",
    "\n",
    "plt.figure(figsize=(15,7))\n",
    "sns.barplot(department_orders.index, department_orders.values)\n",
    "plt.ylabel('Number of products', fontsize=12)\n",
    "plt.xlabel('Department', fontsize=12)\n",
    "plt.title('Department wise correlation', fontsize=15)\n",
    "plt.xticks(rotation='vertical')\n",
    "plt.show()"
   ]
  },
  {
   "cell_type": "code",
   "execution_count": 44,
   "metadata": {},
   "outputs": [
    {
     "data": {
      "text/plain": [
       "produce            9479291\n",
       "dairy eggs         5414016\n",
       "snacks             2887550\n",
       "beverages          2690129\n",
       "frozen             2236432\n",
       "pantry             1875577\n",
       "bakery             1176787\n",
       "canned goods       1068058\n",
       "deli               1051249\n",
       "dry goods pasta     866627\n",
       "household           738666\n",
       "breakfast           709569\n",
       "meat seafood        708931\n",
       "personal care       447123\n",
       "babies              423802\n",
       "international       269253\n",
       "alcohol             153696\n",
       "pets                 97724\n",
       "missing              69145\n",
       "other                36291\n",
       "bulk                 34573\n",
       "Name: department, dtype: int64"
      ]
     },
     "execution_count": 44,
     "metadata": {},
     "output_type": "execute_result"
    }
   ],
   "source": [
    "department_orders"
   ]
  },
  {
   "cell_type": "markdown",
   "metadata": {},
   "source": [
    "I realised dataset provided cannot be used in it's raw form so we will delete above dataframes to free up memory and then perform feature engineering in next step."
   ]
  },
  {
   "cell_type": "code",
   "execution_count": 45,
   "metadata": {},
   "outputs": [],
   "source": [
    "del df_aisles\n",
    "del df_departments\n",
    "del df_products\n",
    "del df_order_products_prior\n",
    "del df_order_products_train\n",
    "del df_orders"
   ]
  },
  {
   "cell_type": "code",
   "execution_count": 46,
   "metadata": {},
   "outputs": [],
   "source": [
    "del orders_type\n",
    "del order_hour_count\n",
    "del order_day\n",
    "del split_orders_count\n",
    "del days_since_prior_order\n",
    "del order_products_count\n",
    "del order_products_cnt\n",
    "del common_products\n",
    "del products_prior\n",
    "del department_orders"
   ]
  },
  {
   "cell_type": "markdown",
   "metadata": {},
   "source": [
    "### Benchmark\n",
    "\n",
    "Since the problem statement is taken from kaggle competition, we will use the Leaderboard and the winners score as benchmark.\n",
    "\n",
    "F-Score of 0.40972 on Public Leaderboard is observed as best score for the above said problem statement.\n",
    "\n",
    "Ref: https://www.kaggle.com/c/instacart-market-basket-analysis/leaderboard"
   ]
  },
  {
   "cell_type": "markdown",
   "metadata": {},
   "source": [
    "## Methodology <a id=\"methodology\"></a>\n",
    "\n",
    "We want to predict products in next order, in order to do that We have to have create feature set for training along with label.\n",
    "\n",
    "We are ignoring aisle as it doesn't influence customer buying habit."
   ]
  },
  {
   "cell_type": "code",
   "execution_count": 47,
   "metadata": {},
   "outputs": [],
   "source": [
    "priorOrderItems = pd.read_csv('dataset/order_products__prior.csv')\n",
    "trainingOrderItems = pd.read_csv('dataset/order_products__train.csv')\n",
    "orders = pd.read_csv('dataset/orders.csv')\n",
    "products = pd.read_csv('dataset/products.csv')"
   ]
  },
  {
   "cell_type": "markdown",
   "metadata": {},
   "source": [
    "#### Basket Size\n",
    "\n",
    "since *add_to_cart_order* holds count of product number in each order, we can extract basket size by aggregating with max."
   ]
  },
  {
   "cell_type": "code",
   "execution_count": 48,
   "metadata": {},
   "outputs": [
    {
     "name": "stdout",
     "output_type": "stream",
     "text": [
      "(32434489, 5)\n"
     ]
    },
    {
     "data": {
      "text/html": [
       "<div>\n",
       "<style scoped>\n",
       "    .dataframe tbody tr th:only-of-type {\n",
       "        vertical-align: middle;\n",
       "    }\n",
       "\n",
       "    .dataframe tbody tr th {\n",
       "        vertical-align: top;\n",
       "    }\n",
       "\n",
       "    .dataframe thead th {\n",
       "        text-align: right;\n",
       "    }\n",
       "</style>\n",
       "<table border=\"1\" class=\"dataframe\">\n",
       "  <thead>\n",
       "    <tr style=\"text-align: right;\">\n",
       "      <th></th>\n",
       "      <th>order_id</th>\n",
       "      <th>product_id</th>\n",
       "      <th>add_to_cart_order</th>\n",
       "      <th>reordered</th>\n",
       "      <th>basket_size</th>\n",
       "    </tr>\n",
       "  </thead>\n",
       "  <tbody>\n",
       "    <tr>\n",
       "      <th>0</th>\n",
       "      <td>2</td>\n",
       "      <td>33120</td>\n",
       "      <td>1</td>\n",
       "      <td>1</td>\n",
       "      <td>9</td>\n",
       "    </tr>\n",
       "    <tr>\n",
       "      <th>1</th>\n",
       "      <td>2</td>\n",
       "      <td>28985</td>\n",
       "      <td>2</td>\n",
       "      <td>1</td>\n",
       "      <td>9</td>\n",
       "    </tr>\n",
       "    <tr>\n",
       "      <th>2</th>\n",
       "      <td>2</td>\n",
       "      <td>9327</td>\n",
       "      <td>3</td>\n",
       "      <td>0</td>\n",
       "      <td>9</td>\n",
       "    </tr>\n",
       "    <tr>\n",
       "      <th>3</th>\n",
       "      <td>2</td>\n",
       "      <td>45918</td>\n",
       "      <td>4</td>\n",
       "      <td>1</td>\n",
       "      <td>9</td>\n",
       "    </tr>\n",
       "    <tr>\n",
       "      <th>4</th>\n",
       "      <td>2</td>\n",
       "      <td>30035</td>\n",
       "      <td>5</td>\n",
       "      <td>0</td>\n",
       "      <td>9</td>\n",
       "    </tr>\n",
       "  </tbody>\n",
       "</table>\n",
       "</div>"
      ],
      "text/plain": [
       "   order_id  product_id  add_to_cart_order  reordered  basket_size\n",
       "0         2       33120                  1          1            9\n",
       "1         2       28985                  2          1            9\n",
       "2         2        9327                  3          0            9\n",
       "3         2       45918                  4          1            9\n",
       "4         2       30035                  5          0            9"
      ]
     },
     "execution_count": 48,
     "metadata": {},
     "output_type": "execute_result"
    }
   ],
   "source": [
    "orderGroup = priorOrderItems.groupby('order_id')['add_to_cart_order'].agg('max').reset_index(name='basket_size')\n",
    "priorOrderItems = pd.merge(priorOrderItems, orderGroup, on='order_id')\n",
    "\n",
    "del orderGroup\n",
    "print(priorOrderItems.shape)\n",
    "priorOrderItems.head()"
   ]
  },
  {
   "cell_type": "markdown",
   "metadata": {},
   "source": [
    "#### Extracting information from products ordered by customer"
   ]
  },
  {
   "cell_type": "code",
   "execution_count": 49,
   "metadata": {},
   "outputs": [
    {
     "name": "stdout",
     "output_type": "stream",
     "text": [
      "(32434489, 12)\n"
     ]
    },
    {
     "data": {
      "text/html": [
       "<div>\n",
       "<style scoped>\n",
       "    .dataframe tbody tr th:only-of-type {\n",
       "        vertical-align: middle;\n",
       "    }\n",
       "\n",
       "    .dataframe tbody tr th {\n",
       "        vertical-align: top;\n",
       "    }\n",
       "\n",
       "    .dataframe thead th {\n",
       "        text-align: right;\n",
       "    }\n",
       "</style>\n",
       "<table border=\"1\" class=\"dataframe\">\n",
       "  <thead>\n",
       "    <tr style=\"text-align: right;\">\n",
       "      <th></th>\n",
       "      <th>order_id</th>\n",
       "      <th>user_id</th>\n",
       "      <th>eval_set</th>\n",
       "      <th>order_number</th>\n",
       "      <th>order_dow</th>\n",
       "      <th>order_hour_of_day</th>\n",
       "      <th>days_since_prior_order</th>\n",
       "      <th>product_id</th>\n",
       "      <th>add_to_cart_order</th>\n",
       "      <th>reordered</th>\n",
       "      <th>basket_size</th>\n",
       "      <th>user_product_id</th>\n",
       "    </tr>\n",
       "  </thead>\n",
       "  <tbody>\n",
       "    <tr>\n",
       "      <th>0</th>\n",
       "      <td>2539329</td>\n",
       "      <td>1</td>\n",
       "      <td>prior</td>\n",
       "      <td>1</td>\n",
       "      <td>2</td>\n",
       "      <td>8</td>\n",
       "      <td>NaN</td>\n",
       "      <td>196</td>\n",
       "      <td>1</td>\n",
       "      <td>0</td>\n",
       "      <td>5</td>\n",
       "      <td>1000196</td>\n",
       "    </tr>\n",
       "    <tr>\n",
       "      <th>1</th>\n",
       "      <td>2539329</td>\n",
       "      <td>1</td>\n",
       "      <td>prior</td>\n",
       "      <td>1</td>\n",
       "      <td>2</td>\n",
       "      <td>8</td>\n",
       "      <td>NaN</td>\n",
       "      <td>14084</td>\n",
       "      <td>2</td>\n",
       "      <td>0</td>\n",
       "      <td>5</td>\n",
       "      <td>1014084</td>\n",
       "    </tr>\n",
       "    <tr>\n",
       "      <th>2</th>\n",
       "      <td>2539329</td>\n",
       "      <td>1</td>\n",
       "      <td>prior</td>\n",
       "      <td>1</td>\n",
       "      <td>2</td>\n",
       "      <td>8</td>\n",
       "      <td>NaN</td>\n",
       "      <td>12427</td>\n",
       "      <td>3</td>\n",
       "      <td>0</td>\n",
       "      <td>5</td>\n",
       "      <td>1012427</td>\n",
       "    </tr>\n",
       "    <tr>\n",
       "      <th>3</th>\n",
       "      <td>2539329</td>\n",
       "      <td>1</td>\n",
       "      <td>prior</td>\n",
       "      <td>1</td>\n",
       "      <td>2</td>\n",
       "      <td>8</td>\n",
       "      <td>NaN</td>\n",
       "      <td>26088</td>\n",
       "      <td>4</td>\n",
       "      <td>0</td>\n",
       "      <td>5</td>\n",
       "      <td>1026088</td>\n",
       "    </tr>\n",
       "    <tr>\n",
       "      <th>4</th>\n",
       "      <td>2539329</td>\n",
       "      <td>1</td>\n",
       "      <td>prior</td>\n",
       "      <td>1</td>\n",
       "      <td>2</td>\n",
       "      <td>8</td>\n",
       "      <td>NaN</td>\n",
       "      <td>26405</td>\n",
       "      <td>5</td>\n",
       "      <td>0</td>\n",
       "      <td>5</td>\n",
       "      <td>1026405</td>\n",
       "    </tr>\n",
       "  </tbody>\n",
       "</table>\n",
       "</div>"
      ],
      "text/plain": [
       "   order_id  user_id eval_set  order_number  order_dow  order_hour_of_day  \\\n",
       "0   2539329        1    prior             1          2                  8   \n",
       "1   2539329        1    prior             1          2                  8   \n",
       "2   2539329        1    prior             1          2                  8   \n",
       "3   2539329        1    prior             1          2                  8   \n",
       "4   2539329        1    prior             1          2                  8   \n",
       "\n",
       "   days_since_prior_order  product_id  add_to_cart_order  reordered  \\\n",
       "0                     NaN         196                  1          0   \n",
       "1                     NaN       14084                  2          0   \n",
       "2                     NaN       12427                  3          0   \n",
       "3                     NaN       26088                  4          0   \n",
       "4                     NaN       26405                  5          0   \n",
       "\n",
       "   basket_size  user_product_id  \n",
       "0            5          1000196  \n",
       "1            5          1014084  \n",
       "2            5          1012427  \n",
       "3            5          1026088  \n",
       "4            5          1026405  "
      ]
     },
     "execution_count": 49,
     "metadata": {},
     "output_type": "execute_result"
    }
   ],
   "source": [
    "orderItems = pd.merge(orders, priorOrderItems, on='order_id')\n",
    "orderItems['user_product_id'] = 1000000 * orderItems['user_id'] + orderItems['product_id']\n",
    "\n",
    "print(orderItems.shape)\n",
    "orderItems.head()"
   ]
  },
  {
   "cell_type": "code",
   "execution_count": 50,
   "metadata": {},
   "outputs": [
    {
     "name": "stdout",
     "output_type": "stream",
     "text": [
      "(32434489, 11)\n"
     ]
    },
    {
     "data": {
      "text/html": [
       "<div>\n",
       "<style scoped>\n",
       "    .dataframe tbody tr th:only-of-type {\n",
       "        vertical-align: middle;\n",
       "    }\n",
       "\n",
       "    .dataframe tbody tr th {\n",
       "        vertical-align: top;\n",
       "    }\n",
       "\n",
       "    .dataframe thead th {\n",
       "        text-align: right;\n",
       "    }\n",
       "</style>\n",
       "<table border=\"1\" class=\"dataframe\">\n",
       "  <thead>\n",
       "    <tr style=\"text-align: right;\">\n",
       "      <th></th>\n",
       "      <th>user_id</th>\n",
       "      <th>order_dow</th>\n",
       "      <th>order_hour_of_day</th>\n",
       "      <th>days_since_prior_order</th>\n",
       "      <th>product_id</th>\n",
       "      <th>add_to_cart_order</th>\n",
       "      <th>user_product_id</th>\n",
       "      <th>basket_size</th>\n",
       "      <th>order_number</th>\n",
       "      <th>order_id</th>\n",
       "      <th>user_product_orders</th>\n",
       "    </tr>\n",
       "  </thead>\n",
       "  <tbody>\n",
       "    <tr>\n",
       "      <th>0</th>\n",
       "      <td>1</td>\n",
       "      <td>2</td>\n",
       "      <td>8</td>\n",
       "      <td>NaN</td>\n",
       "      <td>196</td>\n",
       "      <td>1</td>\n",
       "      <td>1000196</td>\n",
       "      <td>5</td>\n",
       "      <td>1</td>\n",
       "      <td>2539329</td>\n",
       "      <td>1</td>\n",
       "    </tr>\n",
       "    <tr>\n",
       "      <th>1</th>\n",
       "      <td>1</td>\n",
       "      <td>2</td>\n",
       "      <td>8</td>\n",
       "      <td>NaN</td>\n",
       "      <td>14084</td>\n",
       "      <td>2</td>\n",
       "      <td>1014084</td>\n",
       "      <td>5</td>\n",
       "      <td>1</td>\n",
       "      <td>2539329</td>\n",
       "      <td>1</td>\n",
       "    </tr>\n",
       "    <tr>\n",
       "      <th>2</th>\n",
       "      <td>1</td>\n",
       "      <td>2</td>\n",
       "      <td>8</td>\n",
       "      <td>NaN</td>\n",
       "      <td>12427</td>\n",
       "      <td>3</td>\n",
       "      <td>1012427</td>\n",
       "      <td>5</td>\n",
       "      <td>1</td>\n",
       "      <td>2539329</td>\n",
       "      <td>1</td>\n",
       "    </tr>\n",
       "    <tr>\n",
       "      <th>3</th>\n",
       "      <td>1</td>\n",
       "      <td>2</td>\n",
       "      <td>8</td>\n",
       "      <td>NaN</td>\n",
       "      <td>26088</td>\n",
       "      <td>4</td>\n",
       "      <td>1026088</td>\n",
       "      <td>5</td>\n",
       "      <td>1</td>\n",
       "      <td>2539329</td>\n",
       "      <td>1</td>\n",
       "    </tr>\n",
       "    <tr>\n",
       "      <th>4</th>\n",
       "      <td>1</td>\n",
       "      <td>2</td>\n",
       "      <td>8</td>\n",
       "      <td>NaN</td>\n",
       "      <td>26405</td>\n",
       "      <td>5</td>\n",
       "      <td>1026405</td>\n",
       "      <td>5</td>\n",
       "      <td>1</td>\n",
       "      <td>2539329</td>\n",
       "      <td>1</td>\n",
       "    </tr>\n",
       "  </tbody>\n",
       "</table>\n",
       "</div>"
      ],
      "text/plain": [
       "   user_id  order_dow  order_hour_of_day  days_since_prior_order  product_id  \\\n",
       "0        1          2                  8                     NaN         196   \n",
       "1        1          2                  8                     NaN       14084   \n",
       "2        1          2                  8                     NaN       12427   \n",
       "3        1          2                  8                     NaN       26088   \n",
       "4        1          2                  8                     NaN       26405   \n",
       "\n",
       "   add_to_cart_order  user_product_id  basket_size  order_number  order_id  \\\n",
       "0                  1          1000196            5             1   2539329   \n",
       "1                  2          1014084            5             1   2539329   \n",
       "2                  3          1012427            5             1   2539329   \n",
       "3                  4          1026088            5             1   2539329   \n",
       "4                  5          1026405            5             1   2539329   \n",
       "\n",
       "   user_product_orders  \n",
       "0                    1  \n",
       "1                    1  \n",
       "2                    1  \n",
       "3                    1  \n",
       "4                    1  "
      ]
     },
     "execution_count": 50,
     "metadata": {},
     "output_type": "execute_result"
    }
   ],
   "source": [
    "userProducts = orderItems.query('eval_set == \"prior\"')\n",
    "userProducts = userProducts[['user_id', 'order_dow', 'order_hour_of_day', 'days_since_prior_order',\n",
    "                             'product_id', 'add_to_cart_order', 'user_product_id', 'basket_size', \n",
    "                             'order_number', 'order_id']]\n",
    "# we will update this count next\n",
    "userProducts['user_product_orders'] = userProducts['user_id']\n",
    "\n",
    "print(userProducts.shape)\n",
    "userProducts.head()"
   ]
  },
  {
   "cell_type": "code",
   "execution_count": 51,
   "metadata": {},
   "outputs": [
    {
     "name": "stdout",
     "output_type": "stream",
     "text": [
      "(13307953, 7)\n"
     ]
    },
    {
     "data": {
      "text/html": [
       "<div>\n",
       "<style scoped>\n",
       "    .dataframe tbody tr th:only-of-type {\n",
       "        vertical-align: middle;\n",
       "    }\n",
       "\n",
       "    .dataframe tbody tr th {\n",
       "        vertical-align: top;\n",
       "    }\n",
       "\n",
       "    .dataframe thead th {\n",
       "        text-align: right;\n",
       "    }\n",
       "</style>\n",
       "<table border=\"1\" class=\"dataframe\">\n",
       "  <thead>\n",
       "    <tr style=\"text-align: right;\">\n",
       "      <th></th>\n",
       "      <th>user_id</th>\n",
       "      <th>order_dow</th>\n",
       "      <th>order_hour_of_day</th>\n",
       "      <th>days_since_prior_order</th>\n",
       "      <th>user_product_orders</th>\n",
       "      <th>product_id</th>\n",
       "      <th>basket_size</th>\n",
       "    </tr>\n",
       "    <tr>\n",
       "      <th>user_product_id</th>\n",
       "      <th></th>\n",
       "      <th></th>\n",
       "      <th></th>\n",
       "      <th></th>\n",
       "      <th></th>\n",
       "      <th></th>\n",
       "      <th></th>\n",
       "    </tr>\n",
       "  </thead>\n",
       "  <tbody>\n",
       "    <tr>\n",
       "      <th>1000196</th>\n",
       "      <td>1</td>\n",
       "      <td>2.500000</td>\n",
       "      <td>10.300000</td>\n",
       "      <td>19.555556</td>\n",
       "      <td>10</td>\n",
       "      <td>196</td>\n",
       "      <td>5.900000</td>\n",
       "    </tr>\n",
       "    <tr>\n",
       "      <th>1010258</th>\n",
       "      <td>1</td>\n",
       "      <td>2.555556</td>\n",
       "      <td>10.555556</td>\n",
       "      <td>19.555556</td>\n",
       "      <td>9</td>\n",
       "      <td>10258</td>\n",
       "      <td>6.000000</td>\n",
       "    </tr>\n",
       "    <tr>\n",
       "      <th>1010326</th>\n",
       "      <td>1</td>\n",
       "      <td>4.000000</td>\n",
       "      <td>15.000000</td>\n",
       "      <td>28.000000</td>\n",
       "      <td>1</td>\n",
       "      <td>10326</td>\n",
       "      <td>8.000000</td>\n",
       "    </tr>\n",
       "    <tr>\n",
       "      <th>1012427</th>\n",
       "      <td>1</td>\n",
       "      <td>2.500000</td>\n",
       "      <td>10.300000</td>\n",
       "      <td>19.555556</td>\n",
       "      <td>10</td>\n",
       "      <td>12427</td>\n",
       "      <td>5.900000</td>\n",
       "    </tr>\n",
       "    <tr>\n",
       "      <th>1013032</th>\n",
       "      <td>1</td>\n",
       "      <td>2.666667</td>\n",
       "      <td>8.000000</td>\n",
       "      <td>21.666667</td>\n",
       "      <td>3</td>\n",
       "      <td>13032</td>\n",
       "      <td>6.666667</td>\n",
       "    </tr>\n",
       "  </tbody>\n",
       "</table>\n",
       "</div>"
      ],
      "text/plain": [
       "                 user_id  order_dow  order_hour_of_day  \\\n",
       "user_product_id                                          \n",
       "1000196                1   2.500000          10.300000   \n",
       "1010258                1   2.555556          10.555556   \n",
       "1010326                1   4.000000          15.000000   \n",
       "1012427                1   2.500000          10.300000   \n",
       "1013032                1   2.666667           8.000000   \n",
       "\n",
       "                 days_since_prior_order  user_product_orders  product_id  \\\n",
       "user_product_id                                                            \n",
       "1000196                       19.555556                   10         196   \n",
       "1010258                       19.555556                    9       10258   \n",
       "1010326                       28.000000                    1       10326   \n",
       "1012427                       19.555556                   10       12427   \n",
       "1013032                       21.666667                    3       13032   \n",
       "\n",
       "                 basket_size  \n",
       "user_product_id               \n",
       "1000196             5.900000  \n",
       "1010258             6.000000  \n",
       "1010326             8.000000  \n",
       "1012427             5.900000  \n",
       "1013032             6.666667  "
      ]
     },
     "execution_count": 51,
     "metadata": {},
     "output_type": "execute_result"
    }
   ],
   "source": [
    "# finding mean\n",
    "userAvgProducts = userProducts.groupby('user_product_id').aggregate({'user_id':'mean',\n",
    "                                                                     'order_dow':'mean',\n",
    "                                                                     'order_hour_of_day':'mean',\n",
    "                                                                     'days_since_prior_order':'mean',\n",
    "                                                                     'user_product_orders':'count',\n",
    "                                                                     'product_id':'mean',\n",
    "                                                                     'basket_size':'mean'})\n",
    "del orderItems\n",
    "print(userAvgProducts.shape)\n",
    "userAvgProducts.head()"
   ]
  },
  {
   "cell_type": "markdown",
   "metadata": {},
   "source": [
    "user_product_orders includes both repeated (> 1) and non-repeated products (==1)."
   ]
  },
  {
   "cell_type": "code",
   "execution_count": 52,
   "metadata": {},
   "outputs": [
    {
     "data": {
      "text/plain": [
       "32434489"
      ]
     },
     "execution_count": 52,
     "metadata": {},
     "output_type": "execute_result"
    }
   ],
   "source": [
    "# To verify that total products count is same as sum of repeated and non-repeated products count.\n",
    "userAvgProducts['user_product_orders'].agg('sum')"
   ]
  },
  {
   "cell_type": "code",
   "execution_count": 53,
   "metadata": {},
   "outputs": [
    {
     "name": "stdout",
     "output_type": "stream",
     "text": [
      "(206209, 2)\n"
     ]
    },
    {
     "data": {
      "text/html": [
       "<div>\n",
       "<style scoped>\n",
       "    .dataframe tbody tr th:only-of-type {\n",
       "        vertical-align: middle;\n",
       "    }\n",
       "\n",
       "    .dataframe tbody tr th {\n",
       "        vertical-align: top;\n",
       "    }\n",
       "\n",
       "    .dataframe thead th {\n",
       "        text-align: right;\n",
       "    }\n",
       "</style>\n",
       "<table border=\"1\" class=\"dataframe\">\n",
       "  <thead>\n",
       "    <tr style=\"text-align: right;\">\n",
       "      <th></th>\n",
       "      <th>distinct_products</th>\n",
       "      <th>user_reordered_products</th>\n",
       "    </tr>\n",
       "    <tr>\n",
       "      <th>user_id</th>\n",
       "      <th></th>\n",
       "      <th></th>\n",
       "    </tr>\n",
       "  </thead>\n",
       "  <tbody>\n",
       "    <tr>\n",
       "      <th>1</th>\n",
       "      <td>18</td>\n",
       "      <td>10.0</td>\n",
       "    </tr>\n",
       "    <tr>\n",
       "      <th>2</th>\n",
       "      <td>102</td>\n",
       "      <td>37.0</td>\n",
       "    </tr>\n",
       "    <tr>\n",
       "      <th>3</th>\n",
       "      <td>33</td>\n",
       "      <td>19.0</td>\n",
       "    </tr>\n",
       "    <tr>\n",
       "      <th>4</th>\n",
       "      <td>17</td>\n",
       "      <td>1.0</td>\n",
       "    </tr>\n",
       "    <tr>\n",
       "      <th>5</th>\n",
       "      <td>23</td>\n",
       "      <td>8.0</td>\n",
       "    </tr>\n",
       "  </tbody>\n",
       "</table>\n",
       "</div>"
      ],
      "text/plain": [
       "         distinct_products  user_reordered_products\n",
       "user_id                                            \n",
       "1                       18                     10.0\n",
       "2                      102                     37.0\n",
       "3                       33                     19.0\n",
       "4                       17                      1.0\n",
       "5                       23                      8.0"
      ]
     },
     "execution_count": 53,
     "metadata": {},
     "output_type": "execute_result"
    }
   ],
   "source": [
    "user_distinct_products = userAvgProducts.groupby('user_id').count()['product_id'].to_frame()\n",
    "user_distinct_products['user_reordered_products'] = userAvgProducts[userAvgProducts['user_product_orders']>1].groupby('user_id').count()['product_id']\n",
    "user_distinct_products.rename(columns={'product_id':'distinct_products'},inplace=True)\n",
    "\n",
    "print(user_distinct_products.shape)\n",
    "user_distinct_products.head()"
   ]
  },
  {
   "cell_type": "code",
   "execution_count": 54,
   "metadata": {},
   "outputs": [
    {
     "name": "stdout",
     "output_type": "stream",
     "text": [
      "(13307953, 9)\n"
     ]
    },
    {
     "data": {
      "text/html": [
       "<div>\n",
       "<style scoped>\n",
       "    .dataframe tbody tr th:only-of-type {\n",
       "        vertical-align: middle;\n",
       "    }\n",
       "\n",
       "    .dataframe tbody tr th {\n",
       "        vertical-align: top;\n",
       "    }\n",
       "\n",
       "    .dataframe thead th {\n",
       "        text-align: right;\n",
       "    }\n",
       "</style>\n",
       "<table border=\"1\" class=\"dataframe\">\n",
       "  <thead>\n",
       "    <tr style=\"text-align: right;\">\n",
       "      <th></th>\n",
       "      <th>distinct_products</th>\n",
       "      <th>user_reordered_products</th>\n",
       "      <th>user_id</th>\n",
       "      <th>order_dow</th>\n",
       "      <th>order_hour_of_day</th>\n",
       "      <th>days_since_prior_order</th>\n",
       "      <th>user_product_orders</th>\n",
       "      <th>product_id</th>\n",
       "      <th>basket_size</th>\n",
       "    </tr>\n",
       "    <tr>\n",
       "      <th>user_product_id</th>\n",
       "      <th></th>\n",
       "      <th></th>\n",
       "      <th></th>\n",
       "      <th></th>\n",
       "      <th></th>\n",
       "      <th></th>\n",
       "      <th></th>\n",
       "      <th></th>\n",
       "      <th></th>\n",
       "    </tr>\n",
       "  </thead>\n",
       "  <tbody>\n",
       "    <tr>\n",
       "      <th>1000196</th>\n",
       "      <td>18</td>\n",
       "      <td>10.0</td>\n",
       "      <td>1</td>\n",
       "      <td>2.500000</td>\n",
       "      <td>10.300000</td>\n",
       "      <td>19.555556</td>\n",
       "      <td>10</td>\n",
       "      <td>196</td>\n",
       "      <td>5.900000</td>\n",
       "    </tr>\n",
       "    <tr>\n",
       "      <th>1010258</th>\n",
       "      <td>18</td>\n",
       "      <td>10.0</td>\n",
       "      <td>1</td>\n",
       "      <td>2.555556</td>\n",
       "      <td>10.555556</td>\n",
       "      <td>19.555556</td>\n",
       "      <td>9</td>\n",
       "      <td>10258</td>\n",
       "      <td>6.000000</td>\n",
       "    </tr>\n",
       "    <tr>\n",
       "      <th>1010326</th>\n",
       "      <td>18</td>\n",
       "      <td>10.0</td>\n",
       "      <td>1</td>\n",
       "      <td>4.000000</td>\n",
       "      <td>15.000000</td>\n",
       "      <td>28.000000</td>\n",
       "      <td>1</td>\n",
       "      <td>10326</td>\n",
       "      <td>8.000000</td>\n",
       "    </tr>\n",
       "    <tr>\n",
       "      <th>1012427</th>\n",
       "      <td>18</td>\n",
       "      <td>10.0</td>\n",
       "      <td>1</td>\n",
       "      <td>2.500000</td>\n",
       "      <td>10.300000</td>\n",
       "      <td>19.555556</td>\n",
       "      <td>10</td>\n",
       "      <td>12427</td>\n",
       "      <td>5.900000</td>\n",
       "    </tr>\n",
       "    <tr>\n",
       "      <th>1013032</th>\n",
       "      <td>18</td>\n",
       "      <td>10.0</td>\n",
       "      <td>1</td>\n",
       "      <td>2.666667</td>\n",
       "      <td>8.000000</td>\n",
       "      <td>21.666667</td>\n",
       "      <td>3</td>\n",
       "      <td>13032</td>\n",
       "      <td>6.666667</td>\n",
       "    </tr>\n",
       "  </tbody>\n",
       "</table>\n",
       "</div>"
      ],
      "text/plain": [
       "                 distinct_products  user_reordered_products  user_id  \\\n",
       "user_product_id                                                        \n",
       "1000196                         18                     10.0        1   \n",
       "1010258                         18                     10.0        1   \n",
       "1010326                         18                     10.0        1   \n",
       "1012427                         18                     10.0        1   \n",
       "1013032                         18                     10.0        1   \n",
       "\n",
       "                 order_dow  order_hour_of_day  days_since_prior_order  \\\n",
       "user_product_id                                                         \n",
       "1000196           2.500000          10.300000               19.555556   \n",
       "1010258           2.555556          10.555556               19.555556   \n",
       "1010326           4.000000          15.000000               28.000000   \n",
       "1012427           2.500000          10.300000               19.555556   \n",
       "1013032           2.666667           8.000000               21.666667   \n",
       "\n",
       "                 user_product_orders  product_id  basket_size  \n",
       "user_product_id                                                \n",
       "1000196                           10         196     5.900000  \n",
       "1010258                            9       10258     6.000000  \n",
       "1010326                            1       10326     8.000000  \n",
       "1012427                           10       12427     5.900000  \n",
       "1013032                            3       13032     6.666667  "
      ]
     },
     "execution_count": 54,
     "metadata": {},
     "output_type": "execute_result"
    }
   ],
   "source": [
    "userAvgProducts = pd.merge(user_distinct_products, userAvgProducts, left_index=True, right_on='user_id')\n",
    "print(userAvgProducts.shape)\n",
    "userAvgProducts.head()"
   ]
  },
  {
   "cell_type": "code",
   "execution_count": 55,
   "metadata": {},
   "outputs": [
    {
     "data": {
      "text/html": [
       "<div>\n",
       "<style scoped>\n",
       "    .dataframe tbody tr th:only-of-type {\n",
       "        vertical-align: middle;\n",
       "    }\n",
       "\n",
       "    .dataframe tbody tr th {\n",
       "        vertical-align: top;\n",
       "    }\n",
       "\n",
       "    .dataframe thead th {\n",
       "        text-align: right;\n",
       "    }\n",
       "</style>\n",
       "<table border=\"1\" class=\"dataframe\">\n",
       "  <thead>\n",
       "    <tr style=\"text-align: right;\">\n",
       "      <th></th>\n",
       "      <th>distinct_products</th>\n",
       "      <th>user_reordered_products</th>\n",
       "      <th>user_id</th>\n",
       "      <th>order_dow</th>\n",
       "      <th>order_hour_of_day</th>\n",
       "      <th>days_since_prior_order</th>\n",
       "      <th>user_product_orders</th>\n",
       "      <th>product_id</th>\n",
       "      <th>basket_size</th>\n",
       "      <th>user_reorder_rate</th>\n",
       "    </tr>\n",
       "    <tr>\n",
       "      <th>user_product_id</th>\n",
       "      <th></th>\n",
       "      <th></th>\n",
       "      <th></th>\n",
       "      <th></th>\n",
       "      <th></th>\n",
       "      <th></th>\n",
       "      <th></th>\n",
       "      <th></th>\n",
       "      <th></th>\n",
       "      <th></th>\n",
       "    </tr>\n",
       "  </thead>\n",
       "  <tbody>\n",
       "    <tr>\n",
       "      <th>1000196</th>\n",
       "      <td>18</td>\n",
       "      <td>10.0</td>\n",
       "      <td>1</td>\n",
       "      <td>2.500000</td>\n",
       "      <td>10.300000</td>\n",
       "      <td>19.555556</td>\n",
       "      <td>10</td>\n",
       "      <td>196</td>\n",
       "      <td>5.900000</td>\n",
       "      <td>0.555556</td>\n",
       "    </tr>\n",
       "    <tr>\n",
       "      <th>1010258</th>\n",
       "      <td>18</td>\n",
       "      <td>10.0</td>\n",
       "      <td>1</td>\n",
       "      <td>2.555556</td>\n",
       "      <td>10.555556</td>\n",
       "      <td>19.555556</td>\n",
       "      <td>9</td>\n",
       "      <td>10258</td>\n",
       "      <td>6.000000</td>\n",
       "      <td>0.555556</td>\n",
       "    </tr>\n",
       "    <tr>\n",
       "      <th>1010326</th>\n",
       "      <td>18</td>\n",
       "      <td>10.0</td>\n",
       "      <td>1</td>\n",
       "      <td>4.000000</td>\n",
       "      <td>15.000000</td>\n",
       "      <td>28.000000</td>\n",
       "      <td>1</td>\n",
       "      <td>10326</td>\n",
       "      <td>8.000000</td>\n",
       "      <td>0.555556</td>\n",
       "    </tr>\n",
       "    <tr>\n",
       "      <th>1012427</th>\n",
       "      <td>18</td>\n",
       "      <td>10.0</td>\n",
       "      <td>1</td>\n",
       "      <td>2.500000</td>\n",
       "      <td>10.300000</td>\n",
       "      <td>19.555556</td>\n",
       "      <td>10</td>\n",
       "      <td>12427</td>\n",
       "      <td>5.900000</td>\n",
       "      <td>0.555556</td>\n",
       "    </tr>\n",
       "    <tr>\n",
       "      <th>1013032</th>\n",
       "      <td>18</td>\n",
       "      <td>10.0</td>\n",
       "      <td>1</td>\n",
       "      <td>2.666667</td>\n",
       "      <td>8.000000</td>\n",
       "      <td>21.666667</td>\n",
       "      <td>3</td>\n",
       "      <td>13032</td>\n",
       "      <td>6.666667</td>\n",
       "      <td>0.555556</td>\n",
       "    </tr>\n",
       "  </tbody>\n",
       "</table>\n",
       "</div>"
      ],
      "text/plain": [
       "                 distinct_products  user_reordered_products  user_id  \\\n",
       "user_product_id                                                        \n",
       "1000196                         18                     10.0        1   \n",
       "1010258                         18                     10.0        1   \n",
       "1010326                         18                     10.0        1   \n",
       "1012427                         18                     10.0        1   \n",
       "1013032                         18                     10.0        1   \n",
       "\n",
       "                 order_dow  order_hour_of_day  days_since_prior_order  \\\n",
       "user_product_id                                                         \n",
       "1000196           2.500000          10.300000               19.555556   \n",
       "1010258           2.555556          10.555556               19.555556   \n",
       "1010326           4.000000          15.000000               28.000000   \n",
       "1012427           2.500000          10.300000               19.555556   \n",
       "1013032           2.666667           8.000000               21.666667   \n",
       "\n",
       "                 user_product_orders  product_id  basket_size  \\\n",
       "user_product_id                                                 \n",
       "1000196                           10         196     5.900000   \n",
       "1010258                            9       10258     6.000000   \n",
       "1010326                            1       10326     8.000000   \n",
       "1012427                           10       12427     5.900000   \n",
       "1013032                            3       13032     6.666667   \n",
       "\n",
       "                 user_reorder_rate  \n",
       "user_product_id                     \n",
       "1000196                   0.555556  \n",
       "1010258                   0.555556  \n",
       "1010326                   0.555556  \n",
       "1012427                   0.555556  \n",
       "1013032                   0.555556  "
      ]
     },
     "execution_count": 55,
     "metadata": {},
     "output_type": "execute_result"
    }
   ],
   "source": [
    "userAvgProducts['user_reorder_rate'] = userAvgProducts['user_reordered_products']/userAvgProducts['distinct_products']\n",
    "userAvgProducts.head()"
   ]
  },
  {
   "cell_type": "code",
   "execution_count": 56,
   "metadata": {},
   "outputs": [],
   "source": [
    "features = userAvgProducts\n",
    "features.columns = ['user_distinct_products','user_reordered_products','user_id','user_product_dow','user_product_hod','user_product_dsp','user_product_orders','product_id', 'user_avg_basket_size','user_reorder_rate']\n"
   ]
  },
  {
   "cell_type": "code",
   "execution_count": 57,
   "metadata": {},
   "outputs": [
    {
     "name": "stdout",
     "output_type": "stream",
     "text": [
      "(206209, 6)\n"
     ]
    },
    {
     "data": {
      "text/html": [
       "<div>\n",
       "<style scoped>\n",
       "    .dataframe tbody tr th:only-of-type {\n",
       "        vertical-align: middle;\n",
       "    }\n",
       "\n",
       "    .dataframe tbody tr th {\n",
       "        vertical-align: top;\n",
       "    }\n",
       "\n",
       "    .dataframe thead th {\n",
       "        text-align: right;\n",
       "    }\n",
       "</style>\n",
       "<table border=\"1\" class=\"dataframe\">\n",
       "  <thead>\n",
       "    <tr style=\"text-align: right;\">\n",
       "      <th></th>\n",
       "      <th>order_id</th>\n",
       "      <th>eval_set</th>\n",
       "      <th>order_number</th>\n",
       "      <th>order_dow</th>\n",
       "      <th>order_hour_of_day</th>\n",
       "      <th>days_since_prior_order</th>\n",
       "    </tr>\n",
       "    <tr>\n",
       "      <th>user_id</th>\n",
       "      <th></th>\n",
       "      <th></th>\n",
       "      <th></th>\n",
       "      <th></th>\n",
       "      <th></th>\n",
       "      <th></th>\n",
       "    </tr>\n",
       "  </thead>\n",
       "  <tbody>\n",
       "    <tr>\n",
       "      <th>1</th>\n",
       "      <td>3367565</td>\n",
       "      <td>prior</td>\n",
       "      <td>10</td>\n",
       "      <td>4</td>\n",
       "      <td>16</td>\n",
       "      <td>30.0</td>\n",
       "    </tr>\n",
       "    <tr>\n",
       "      <th>2</th>\n",
       "      <td>3268552</td>\n",
       "      <td>prior</td>\n",
       "      <td>14</td>\n",
       "      <td>5</td>\n",
       "      <td>15</td>\n",
       "      <td>30.0</td>\n",
       "    </tr>\n",
       "    <tr>\n",
       "      <th>3</th>\n",
       "      <td>3225766</td>\n",
       "      <td>prior</td>\n",
       "      <td>12</td>\n",
       "      <td>3</td>\n",
       "      <td>19</td>\n",
       "      <td>21.0</td>\n",
       "    </tr>\n",
       "    <tr>\n",
       "      <th>4</th>\n",
       "      <td>3343014</td>\n",
       "      <td>prior</td>\n",
       "      <td>5</td>\n",
       "      <td>6</td>\n",
       "      <td>15</td>\n",
       "      <td>21.0</td>\n",
       "    </tr>\n",
       "    <tr>\n",
       "      <th>5</th>\n",
       "      <td>2717275</td>\n",
       "      <td>prior</td>\n",
       "      <td>4</td>\n",
       "      <td>3</td>\n",
       "      <td>18</td>\n",
       "      <td>19.0</td>\n",
       "    </tr>\n",
       "  </tbody>\n",
       "</table>\n",
       "</div>"
      ],
      "text/plain": [
       "         order_id eval_set  order_number  order_dow  order_hour_of_day  \\\n",
       "user_id                                                                  \n",
       "1         3367565    prior            10          4                 16   \n",
       "2         3268552    prior            14          5                 15   \n",
       "3         3225766    prior            12          3                 19   \n",
       "4         3343014    prior             5          6                 15   \n",
       "5         2717275    prior             4          3                 18   \n",
       "\n",
       "         days_since_prior_order  \n",
       "user_id                          \n",
       "1                          30.0  \n",
       "2                          30.0  \n",
       "3                          21.0  \n",
       "4                          21.0  \n",
       "5                          19.0  "
      ]
     },
     "execution_count": 57,
     "metadata": {},
     "output_type": "execute_result"
    }
   ],
   "source": [
    "userOrders = orders.query('eval_set == \"prior\"').groupby('user_id').aggregate('max')\n",
    "print(userOrders.shape)\n",
    "userOrders.head()"
   ]
  },
  {
   "cell_type": "code",
   "execution_count": 58,
   "metadata": {},
   "outputs": [
    {
     "name": "stdout",
     "output_type": "stream",
     "text": [
      "(13307953, 11)\n"
     ]
    },
    {
     "data": {
      "text/html": [
       "<div>\n",
       "<style scoped>\n",
       "    .dataframe tbody tr th:only-of-type {\n",
       "        vertical-align: middle;\n",
       "    }\n",
       "\n",
       "    .dataframe tbody tr th {\n",
       "        vertical-align: top;\n",
       "    }\n",
       "\n",
       "    .dataframe thead th {\n",
       "        text-align: right;\n",
       "    }\n",
       "</style>\n",
       "<table border=\"1\" class=\"dataframe\">\n",
       "  <thead>\n",
       "    <tr style=\"text-align: right;\">\n",
       "      <th></th>\n",
       "      <th>user_product_reorder_rate</th>\n",
       "      <th>user_distinct_products</th>\n",
       "      <th>user_reordered_products</th>\n",
       "      <th>user_id</th>\n",
       "      <th>user_product_dow</th>\n",
       "      <th>user_product_hod</th>\n",
       "      <th>user_product_dsp</th>\n",
       "      <th>user_product_orders</th>\n",
       "      <th>product_id</th>\n",
       "      <th>user_avg_basket_size</th>\n",
       "      <th>user_reorder_rate</th>\n",
       "    </tr>\n",
       "    <tr>\n",
       "      <th>user_product_id</th>\n",
       "      <th></th>\n",
       "      <th></th>\n",
       "      <th></th>\n",
       "      <th></th>\n",
       "      <th></th>\n",
       "      <th></th>\n",
       "      <th></th>\n",
       "      <th></th>\n",
       "      <th></th>\n",
       "      <th></th>\n",
       "      <th></th>\n",
       "    </tr>\n",
       "  </thead>\n",
       "  <tbody>\n",
       "    <tr>\n",
       "      <th>1000196</th>\n",
       "      <td>1.0</td>\n",
       "      <td>18</td>\n",
       "      <td>10.0</td>\n",
       "      <td>1</td>\n",
       "      <td>2.500000</td>\n",
       "      <td>10.300000</td>\n",
       "      <td>19.555556</td>\n",
       "      <td>10</td>\n",
       "      <td>196</td>\n",
       "      <td>5.900000</td>\n",
       "      <td>0.555556</td>\n",
       "    </tr>\n",
       "    <tr>\n",
       "      <th>1010258</th>\n",
       "      <td>0.9</td>\n",
       "      <td>18</td>\n",
       "      <td>10.0</td>\n",
       "      <td>1</td>\n",
       "      <td>2.555556</td>\n",
       "      <td>10.555556</td>\n",
       "      <td>19.555556</td>\n",
       "      <td>9</td>\n",
       "      <td>10258</td>\n",
       "      <td>6.000000</td>\n",
       "      <td>0.555556</td>\n",
       "    </tr>\n",
       "    <tr>\n",
       "      <th>1010326</th>\n",
       "      <td>0.1</td>\n",
       "      <td>18</td>\n",
       "      <td>10.0</td>\n",
       "      <td>1</td>\n",
       "      <td>4.000000</td>\n",
       "      <td>15.000000</td>\n",
       "      <td>28.000000</td>\n",
       "      <td>1</td>\n",
       "      <td>10326</td>\n",
       "      <td>8.000000</td>\n",
       "      <td>0.555556</td>\n",
       "    </tr>\n",
       "    <tr>\n",
       "      <th>1012427</th>\n",
       "      <td>1.0</td>\n",
       "      <td>18</td>\n",
       "      <td>10.0</td>\n",
       "      <td>1</td>\n",
       "      <td>2.500000</td>\n",
       "      <td>10.300000</td>\n",
       "      <td>19.555556</td>\n",
       "      <td>10</td>\n",
       "      <td>12427</td>\n",
       "      <td>5.900000</td>\n",
       "      <td>0.555556</td>\n",
       "    </tr>\n",
       "    <tr>\n",
       "      <th>1013032</th>\n",
       "      <td>0.3</td>\n",
       "      <td>18</td>\n",
       "      <td>10.0</td>\n",
       "      <td>1</td>\n",
       "      <td>2.666667</td>\n",
       "      <td>8.000000</td>\n",
       "      <td>21.666667</td>\n",
       "      <td>3</td>\n",
       "      <td>13032</td>\n",
       "      <td>6.666667</td>\n",
       "      <td>0.555556</td>\n",
       "    </tr>\n",
       "  </tbody>\n",
       "</table>\n",
       "</div>"
      ],
      "text/plain": [
       "                 user_product_reorder_rate  user_distinct_products  \\\n",
       "user_product_id                                                      \n",
       "1000196                                1.0                      18   \n",
       "1010258                                0.9                      18   \n",
       "1010326                                0.1                      18   \n",
       "1012427                                1.0                      18   \n",
       "1013032                                0.3                      18   \n",
       "\n",
       "                 user_reordered_products  user_id  user_product_dow  \\\n",
       "user_product_id                                                       \n",
       "1000196                             10.0        1          2.500000   \n",
       "1010258                             10.0        1          2.555556   \n",
       "1010326                             10.0        1          4.000000   \n",
       "1012427                             10.0        1          2.500000   \n",
       "1013032                             10.0        1          2.666667   \n",
       "\n",
       "                 user_product_hod  user_product_dsp  user_product_orders  \\\n",
       "user_product_id                                                            \n",
       "1000196                 10.300000         19.555556                   10   \n",
       "1010258                 10.555556         19.555556                    9   \n",
       "1010326                 15.000000         28.000000                    1   \n",
       "1012427                 10.300000         19.555556                   10   \n",
       "1013032                  8.000000         21.666667                    3   \n",
       "\n",
       "                 product_id  user_avg_basket_size  user_reorder_rate  \n",
       "user_product_id                                                       \n",
       "1000196                 196              5.900000           0.555556  \n",
       "1010258               10258              6.000000           0.555556  \n",
       "1010326               10326              8.000000           0.555556  \n",
       "1012427               12427              5.900000           0.555556  \n",
       "1013032               13032              6.666667           0.555556  "
      ]
     },
     "execution_count": 58,
     "metadata": {},
     "output_type": "execute_result"
    }
   ],
   "source": [
    "userOrders = userOrders[['order_number']]\n",
    "features = pd.merge(userOrders, features, right_on='user_id', left_index=True)\n",
    "features['order_number'] = features['user_product_orders']/features['order_number']\n",
    "features.rename(columns={'order_number': 'user_product_reorder_rate'}, inplace=True)\n",
    "\n",
    "print(features.shape)\n",
    "features.head()"
   ]
  },
  {
   "cell_type": "code",
   "execution_count": 59,
   "metadata": {},
   "outputs": [
    {
     "name": "stdout",
     "output_type": "stream",
     "text": [
      "(13307953, 13)\n"
     ]
    },
    {
     "data": {
      "text/html": [
       "<div>\n",
       "<style scoped>\n",
       "    .dataframe tbody tr th:only-of-type {\n",
       "        vertical-align: middle;\n",
       "    }\n",
       "\n",
       "    .dataframe tbody tr th {\n",
       "        vertical-align: top;\n",
       "    }\n",
       "\n",
       "    .dataframe thead th {\n",
       "        text-align: right;\n",
       "    }\n",
       "</style>\n",
       "<table border=\"1\" class=\"dataframe\">\n",
       "  <thead>\n",
       "    <tr style=\"text-align: right;\">\n",
       "      <th></th>\n",
       "      <th>user_product_reorder_rate</th>\n",
       "      <th>user_distinct_products</th>\n",
       "      <th>user_reordered_products</th>\n",
       "      <th>user_id</th>\n",
       "      <th>user_product_dow</th>\n",
       "      <th>user_product_hod</th>\n",
       "      <th>user_product_dsp</th>\n",
       "      <th>user_product_orders</th>\n",
       "      <th>product_id</th>\n",
       "      <th>user_avg_basket_size</th>\n",
       "      <th>user_reorder_rate</th>\n",
       "      <th>aisle_id</th>\n",
       "      <th>department_id</th>\n",
       "    </tr>\n",
       "  </thead>\n",
       "  <tbody>\n",
       "    <tr>\n",
       "      <th>0</th>\n",
       "      <td>1.000000</td>\n",
       "      <td>18</td>\n",
       "      <td>10.0</td>\n",
       "      <td>1</td>\n",
       "      <td>2.5</td>\n",
       "      <td>10.300000</td>\n",
       "      <td>19.555556</td>\n",
       "      <td>10</td>\n",
       "      <td>196</td>\n",
       "      <td>5.900000</td>\n",
       "      <td>0.555556</td>\n",
       "      <td>77</td>\n",
       "      <td>7</td>\n",
       "    </tr>\n",
       "    <tr>\n",
       "      <th>1</th>\n",
       "      <td>0.227273</td>\n",
       "      <td>13</td>\n",
       "      <td>9.0</td>\n",
       "      <td>15</td>\n",
       "      <td>1.4</td>\n",
       "      <td>11.000000</td>\n",
       "      <td>8.600000</td>\n",
       "      <td>5</td>\n",
       "      <td>196</td>\n",
       "      <td>2.800000</td>\n",
       "      <td>0.692308</td>\n",
       "      <td>77</td>\n",
       "      <td>7</td>\n",
       "    </tr>\n",
       "    <tr>\n",
       "      <th>2</th>\n",
       "      <td>0.333333</td>\n",
       "      <td>133</td>\n",
       "      <td>39.0</td>\n",
       "      <td>19</td>\n",
       "      <td>5.0</td>\n",
       "      <td>14.333333</td>\n",
       "      <td>6.666667</td>\n",
       "      <td>3</td>\n",
       "      <td>196</td>\n",
       "      <td>31.333333</td>\n",
       "      <td>0.293233</td>\n",
       "      <td>77</td>\n",
       "      <td>7</td>\n",
       "    </tr>\n",
       "    <tr>\n",
       "      <th>3</th>\n",
       "      <td>0.030303</td>\n",
       "      <td>102</td>\n",
       "      <td>30.0</td>\n",
       "      <td>21</td>\n",
       "      <td>3.0</td>\n",
       "      <td>10.000000</td>\n",
       "      <td>6.000000</td>\n",
       "      <td>1</td>\n",
       "      <td>196</td>\n",
       "      <td>7.000000</td>\n",
       "      <td>0.294118</td>\n",
       "      <td>77</td>\n",
       "      <td>7</td>\n",
       "    </tr>\n",
       "    <tr>\n",
       "      <th>4</th>\n",
       "      <td>0.100000</td>\n",
       "      <td>190</td>\n",
       "      <td>66.0</td>\n",
       "      <td>31</td>\n",
       "      <td>3.0</td>\n",
       "      <td>9.500000</td>\n",
       "      <td>7.500000</td>\n",
       "      <td>2</td>\n",
       "      <td>196</td>\n",
       "      <td>27.500000</td>\n",
       "      <td>0.347368</td>\n",
       "      <td>77</td>\n",
       "      <td>7</td>\n",
       "    </tr>\n",
       "  </tbody>\n",
       "</table>\n",
       "</div>"
      ],
      "text/plain": [
       "   user_product_reorder_rate  user_distinct_products  user_reordered_products  \\\n",
       "0                   1.000000                      18                     10.0   \n",
       "1                   0.227273                      13                      9.0   \n",
       "2                   0.333333                     133                     39.0   \n",
       "3                   0.030303                     102                     30.0   \n",
       "4                   0.100000                     190                     66.0   \n",
       "\n",
       "   user_id  user_product_dow  user_product_hod  user_product_dsp  \\\n",
       "0        1               2.5         10.300000         19.555556   \n",
       "1       15               1.4         11.000000          8.600000   \n",
       "2       19               5.0         14.333333          6.666667   \n",
       "3       21               3.0         10.000000          6.000000   \n",
       "4       31               3.0          9.500000          7.500000   \n",
       "\n",
       "   user_product_orders  product_id  user_avg_basket_size  user_reorder_rate  \\\n",
       "0                   10         196              5.900000           0.555556   \n",
       "1                    5         196              2.800000           0.692308   \n",
       "2                    3         196             31.333333           0.293233   \n",
       "3                    1         196              7.000000           0.294118   \n",
       "4                    2         196             27.500000           0.347368   \n",
       "\n",
       "   aisle_id  department_id  \n",
       "0        77              7  \n",
       "1        77              7  \n",
       "2        77              7  \n",
       "3        77              7  \n",
       "4        77              7  "
      ]
     },
     "execution_count": 59,
     "metadata": {},
     "output_type": "execute_result"
    }
   ],
   "source": [
    "features = pd.merge(features, products, on='product_id')\n",
    "features.drop('product_name', axis=1, inplace=True)\n",
    "\n",
    "print(features.shape)\n",
    "features.head()"
   ]
  },
  {
   "cell_type": "code",
   "execution_count": 60,
   "metadata": {},
   "outputs": [
    {
     "name": "stdout",
     "output_type": "stream",
     "text": [
      "(206209, 2)\n"
     ]
    },
    {
     "data": {
      "text/html": [
       "<div>\n",
       "<style scoped>\n",
       "    .dataframe tbody tr th:only-of-type {\n",
       "        vertical-align: middle;\n",
       "    }\n",
       "\n",
       "    .dataframe tbody tr th {\n",
       "        vertical-align: top;\n",
       "    }\n",
       "\n",
       "    .dataframe thead th {\n",
       "        text-align: right;\n",
       "    }\n",
       "</style>\n",
       "<table border=\"1\" class=\"dataframe\">\n",
       "  <thead>\n",
       "    <tr style=\"text-align: right;\">\n",
       "      <th></th>\n",
       "      <th>user_orders</th>\n",
       "      <th>user_order_dsp</th>\n",
       "    </tr>\n",
       "    <tr>\n",
       "      <th>user_id</th>\n",
       "      <th></th>\n",
       "      <th></th>\n",
       "    </tr>\n",
       "  </thead>\n",
       "  <tbody>\n",
       "    <tr>\n",
       "      <th>1</th>\n",
       "      <td>10</td>\n",
       "      <td>19.555556</td>\n",
       "    </tr>\n",
       "    <tr>\n",
       "      <th>2</th>\n",
       "      <td>14</td>\n",
       "      <td>15.230769</td>\n",
       "    </tr>\n",
       "    <tr>\n",
       "      <th>3</th>\n",
       "      <td>12</td>\n",
       "      <td>12.090909</td>\n",
       "    </tr>\n",
       "    <tr>\n",
       "      <th>4</th>\n",
       "      <td>5</td>\n",
       "      <td>13.750000</td>\n",
       "    </tr>\n",
       "    <tr>\n",
       "      <th>5</th>\n",
       "      <td>4</td>\n",
       "      <td>13.333333</td>\n",
       "    </tr>\n",
       "  </tbody>\n",
       "</table>\n",
       "</div>"
      ],
      "text/plain": [
       "         user_orders  user_order_dsp\n",
       "user_id                             \n",
       "1                 10       19.555556\n",
       "2                 14       15.230769\n",
       "3                 12       12.090909\n",
       "4                  5       13.750000\n",
       "5                  4       13.333333"
      ]
     },
     "execution_count": 60,
     "metadata": {},
     "output_type": "execute_result"
    }
   ],
   "source": [
    "user_order_group = orders[orders['eval_set']=='prior'].groupby('user_id').aggregate({'order_id':'count', 'days_since_prior_order':'mean'})\n",
    "user_order_group.rename(columns={'order_id':'user_orders','days_since_prior_order':'user_order_dsp'},inplace=True)\n",
    "print(user_order_group.shape)\n",
    "user_order_group.head()\n"
   ]
  },
  {
   "cell_type": "code",
   "execution_count": 61,
   "metadata": {},
   "outputs": [
    {
     "name": "stdout",
     "output_type": "stream",
     "text": [
      "(13307953, 15)\n"
     ]
    },
    {
     "data": {
      "text/html": [
       "<div>\n",
       "<style scoped>\n",
       "    .dataframe tbody tr th:only-of-type {\n",
       "        vertical-align: middle;\n",
       "    }\n",
       "\n",
       "    .dataframe tbody tr th {\n",
       "        vertical-align: top;\n",
       "    }\n",
       "\n",
       "    .dataframe thead th {\n",
       "        text-align: right;\n",
       "    }\n",
       "</style>\n",
       "<table border=\"1\" class=\"dataframe\">\n",
       "  <thead>\n",
       "    <tr style=\"text-align: right;\">\n",
       "      <th></th>\n",
       "      <th>user_product_reorder_rate</th>\n",
       "      <th>user_distinct_products</th>\n",
       "      <th>user_reordered_products</th>\n",
       "      <th>user_id</th>\n",
       "      <th>user_product_dow</th>\n",
       "      <th>user_product_hod</th>\n",
       "      <th>user_product_dsp</th>\n",
       "      <th>user_product_orders</th>\n",
       "      <th>product_id</th>\n",
       "      <th>user_avg_basket_size</th>\n",
       "      <th>user_reorder_rate</th>\n",
       "      <th>aisle_id</th>\n",
       "      <th>department_id</th>\n",
       "      <th>user_orders</th>\n",
       "      <th>user_order_dsp</th>\n",
       "    </tr>\n",
       "  </thead>\n",
       "  <tbody>\n",
       "    <tr>\n",
       "      <th>0</th>\n",
       "      <td>1.0</td>\n",
       "      <td>18</td>\n",
       "      <td>10.0</td>\n",
       "      <td>1</td>\n",
       "      <td>2.500000</td>\n",
       "      <td>10.300000</td>\n",
       "      <td>19.555556</td>\n",
       "      <td>10</td>\n",
       "      <td>196</td>\n",
       "      <td>5.900000</td>\n",
       "      <td>0.555556</td>\n",
       "      <td>77</td>\n",
       "      <td>7</td>\n",
       "      <td>10</td>\n",
       "      <td>19.555556</td>\n",
       "    </tr>\n",
       "    <tr>\n",
       "      <th>8000</th>\n",
       "      <td>0.9</td>\n",
       "      <td>18</td>\n",
       "      <td>10.0</td>\n",
       "      <td>1</td>\n",
       "      <td>2.555556</td>\n",
       "      <td>10.555556</td>\n",
       "      <td>19.555556</td>\n",
       "      <td>9</td>\n",
       "      <td>10258</td>\n",
       "      <td>6.000000</td>\n",
       "      <td>0.555556</td>\n",
       "      <td>117</td>\n",
       "      <td>19</td>\n",
       "      <td>10</td>\n",
       "      <td>19.555556</td>\n",
       "    </tr>\n",
       "    <tr>\n",
       "      <th>8557</th>\n",
       "      <td>0.1</td>\n",
       "      <td>18</td>\n",
       "      <td>10.0</td>\n",
       "      <td>1</td>\n",
       "      <td>4.000000</td>\n",
       "      <td>15.000000</td>\n",
       "      <td>28.000000</td>\n",
       "      <td>1</td>\n",
       "      <td>10326</td>\n",
       "      <td>8.000000</td>\n",
       "      <td>0.555556</td>\n",
       "      <td>24</td>\n",
       "      <td>4</td>\n",
       "      <td>10</td>\n",
       "      <td>19.555556</td>\n",
       "    </tr>\n",
       "    <tr>\n",
       "      <th>10480</th>\n",
       "      <td>1.0</td>\n",
       "      <td>18</td>\n",
       "      <td>10.0</td>\n",
       "      <td>1</td>\n",
       "      <td>2.500000</td>\n",
       "      <td>10.300000</td>\n",
       "      <td>19.555556</td>\n",
       "      <td>10</td>\n",
       "      <td>12427</td>\n",
       "      <td>5.900000</td>\n",
       "      <td>0.555556</td>\n",
       "      <td>23</td>\n",
       "      <td>19</td>\n",
       "      <td>10</td>\n",
       "      <td>19.555556</td>\n",
       "    </tr>\n",
       "    <tr>\n",
       "      <th>12159</th>\n",
       "      <td>0.3</td>\n",
       "      <td>18</td>\n",
       "      <td>10.0</td>\n",
       "      <td>1</td>\n",
       "      <td>2.666667</td>\n",
       "      <td>8.000000</td>\n",
       "      <td>21.666667</td>\n",
       "      <td>3</td>\n",
       "      <td>13032</td>\n",
       "      <td>6.666667</td>\n",
       "      <td>0.555556</td>\n",
       "      <td>121</td>\n",
       "      <td>14</td>\n",
       "      <td>10</td>\n",
       "      <td>19.555556</td>\n",
       "    </tr>\n",
       "  </tbody>\n",
       "</table>\n",
       "</div>"
      ],
      "text/plain": [
       "       user_product_reorder_rate  user_distinct_products  \\\n",
       "0                            1.0                      18   \n",
       "8000                         0.9                      18   \n",
       "8557                         0.1                      18   \n",
       "10480                        1.0                      18   \n",
       "12159                        0.3                      18   \n",
       "\n",
       "       user_reordered_products  user_id  user_product_dow  user_product_hod  \\\n",
       "0                         10.0        1          2.500000         10.300000   \n",
       "8000                      10.0        1          2.555556         10.555556   \n",
       "8557                      10.0        1          4.000000         15.000000   \n",
       "10480                     10.0        1          2.500000         10.300000   \n",
       "12159                     10.0        1          2.666667          8.000000   \n",
       "\n",
       "       user_product_dsp  user_product_orders  product_id  \\\n",
       "0             19.555556                   10         196   \n",
       "8000          19.555556                    9       10258   \n",
       "8557          28.000000                    1       10326   \n",
       "10480         19.555556                   10       12427   \n",
       "12159         21.666667                    3       13032   \n",
       "\n",
       "       user_avg_basket_size  user_reorder_rate  aisle_id  department_id  \\\n",
       "0                  5.900000           0.555556        77              7   \n",
       "8000               6.000000           0.555556       117             19   \n",
       "8557               8.000000           0.555556        24              4   \n",
       "10480              5.900000           0.555556        23             19   \n",
       "12159              6.666667           0.555556       121             14   \n",
       "\n",
       "       user_orders  user_order_dsp  \n",
       "0               10       19.555556  \n",
       "8000            10       19.555556  \n",
       "8557            10       19.555556  \n",
       "10480           10       19.555556  \n",
       "12159           10       19.555556  "
      ]
     },
     "execution_count": 61,
     "metadata": {},
     "output_type": "execute_result"
    }
   ],
   "source": [
    "features = pd.merge(features, user_order_group, left_on='user_id', right_index=True)\n",
    "print(features.shape)\n",
    "features.head()"
   ]
  },
  {
   "cell_type": "code",
   "execution_count": 62,
   "metadata": {},
   "outputs": [
    {
     "data": {
      "text/html": [
       "<div>\n",
       "<style scoped>\n",
       "    .dataframe tbody tr th:only-of-type {\n",
       "        vertical-align: middle;\n",
       "    }\n",
       "\n",
       "    .dataframe tbody tr th {\n",
       "        vertical-align: top;\n",
       "    }\n",
       "\n",
       "    .dataframe thead th {\n",
       "        text-align: right;\n",
       "    }\n",
       "</style>\n",
       "<table border=\"1\" class=\"dataframe\">\n",
       "  <thead>\n",
       "    <tr style=\"text-align: right;\">\n",
       "      <th></th>\n",
       "      <th>user_product_reorder_rate</th>\n",
       "      <th>user_distinct_products</th>\n",
       "      <th>user_reordered_products</th>\n",
       "      <th>user_id</th>\n",
       "      <th>user_product_dow</th>\n",
       "      <th>user_product_hod</th>\n",
       "      <th>user_product_dsp</th>\n",
       "      <th>user_product_orders</th>\n",
       "      <th>product_id</th>\n",
       "      <th>user_avg_basket_size</th>\n",
       "      <th>user_reorder_rate</th>\n",
       "      <th>aisle_id</th>\n",
       "      <th>department_id</th>\n",
       "      <th>user_orders</th>\n",
       "      <th>user_order_dsp</th>\n",
       "      <th>user_total_products</th>\n",
       "    </tr>\n",
       "  </thead>\n",
       "  <tbody>\n",
       "    <tr>\n",
       "      <th>0</th>\n",
       "      <td>1.0</td>\n",
       "      <td>18</td>\n",
       "      <td>10.0</td>\n",
       "      <td>1</td>\n",
       "      <td>2.500000</td>\n",
       "      <td>10.300000</td>\n",
       "      <td>19.555556</td>\n",
       "      <td>10</td>\n",
       "      <td>196</td>\n",
       "      <td>5.900000</td>\n",
       "      <td>0.555556</td>\n",
       "      <td>77</td>\n",
       "      <td>7</td>\n",
       "      <td>10</td>\n",
       "      <td>19.555556</td>\n",
       "      <td>59.000000</td>\n",
       "    </tr>\n",
       "    <tr>\n",
       "      <th>8000</th>\n",
       "      <td>0.9</td>\n",
       "      <td>18</td>\n",
       "      <td>10.0</td>\n",
       "      <td>1</td>\n",
       "      <td>2.555556</td>\n",
       "      <td>10.555556</td>\n",
       "      <td>19.555556</td>\n",
       "      <td>9</td>\n",
       "      <td>10258</td>\n",
       "      <td>6.000000</td>\n",
       "      <td>0.555556</td>\n",
       "      <td>117</td>\n",
       "      <td>19</td>\n",
       "      <td>10</td>\n",
       "      <td>19.555556</td>\n",
       "      <td>60.000000</td>\n",
       "    </tr>\n",
       "    <tr>\n",
       "      <th>8557</th>\n",
       "      <td>0.1</td>\n",
       "      <td>18</td>\n",
       "      <td>10.0</td>\n",
       "      <td>1</td>\n",
       "      <td>4.000000</td>\n",
       "      <td>15.000000</td>\n",
       "      <td>28.000000</td>\n",
       "      <td>1</td>\n",
       "      <td>10326</td>\n",
       "      <td>8.000000</td>\n",
       "      <td>0.555556</td>\n",
       "      <td>24</td>\n",
       "      <td>4</td>\n",
       "      <td>10</td>\n",
       "      <td>19.555556</td>\n",
       "      <td>80.000000</td>\n",
       "    </tr>\n",
       "    <tr>\n",
       "      <th>10480</th>\n",
       "      <td>1.0</td>\n",
       "      <td>18</td>\n",
       "      <td>10.0</td>\n",
       "      <td>1</td>\n",
       "      <td>2.500000</td>\n",
       "      <td>10.300000</td>\n",
       "      <td>19.555556</td>\n",
       "      <td>10</td>\n",
       "      <td>12427</td>\n",
       "      <td>5.900000</td>\n",
       "      <td>0.555556</td>\n",
       "      <td>23</td>\n",
       "      <td>19</td>\n",
       "      <td>10</td>\n",
       "      <td>19.555556</td>\n",
       "      <td>59.000000</td>\n",
       "    </tr>\n",
       "    <tr>\n",
       "      <th>12159</th>\n",
       "      <td>0.3</td>\n",
       "      <td>18</td>\n",
       "      <td>10.0</td>\n",
       "      <td>1</td>\n",
       "      <td>2.666667</td>\n",
       "      <td>8.000000</td>\n",
       "      <td>21.666667</td>\n",
       "      <td>3</td>\n",
       "      <td>13032</td>\n",
       "      <td>6.666667</td>\n",
       "      <td>0.555556</td>\n",
       "      <td>121</td>\n",
       "      <td>14</td>\n",
       "      <td>10</td>\n",
       "      <td>19.555556</td>\n",
       "      <td>66.666667</td>\n",
       "    </tr>\n",
       "  </tbody>\n",
       "</table>\n",
       "</div>"
      ],
      "text/plain": [
       "       user_product_reorder_rate  user_distinct_products  \\\n",
       "0                            1.0                      18   \n",
       "8000                         0.9                      18   \n",
       "8557                         0.1                      18   \n",
       "10480                        1.0                      18   \n",
       "12159                        0.3                      18   \n",
       "\n",
       "       user_reordered_products  user_id  user_product_dow  user_product_hod  \\\n",
       "0                         10.0        1          2.500000         10.300000   \n",
       "8000                      10.0        1          2.555556         10.555556   \n",
       "8557                      10.0        1          4.000000         15.000000   \n",
       "10480                     10.0        1          2.500000         10.300000   \n",
       "12159                     10.0        1          2.666667          8.000000   \n",
       "\n",
       "       user_product_dsp  user_product_orders  product_id  \\\n",
       "0             19.555556                   10         196   \n",
       "8000          19.555556                    9       10258   \n",
       "8557          28.000000                    1       10326   \n",
       "10480         19.555556                   10       12427   \n",
       "12159         21.666667                    3       13032   \n",
       "\n",
       "       user_avg_basket_size  user_reorder_rate  aisle_id  department_id  \\\n",
       "0                  5.900000           0.555556        77              7   \n",
       "8000               6.000000           0.555556       117             19   \n",
       "8557               8.000000           0.555556        24              4   \n",
       "10480              5.900000           0.555556        23             19   \n",
       "12159              6.666667           0.555556       121             14   \n",
       "\n",
       "       user_orders  user_order_dsp  user_total_products  \n",
       "0               10       19.555556            59.000000  \n",
       "8000            10       19.555556            60.000000  \n",
       "8557            10       19.555556            80.000000  \n",
       "10480           10       19.555556            59.000000  \n",
       "12159           10       19.555556            66.666667  "
      ]
     },
     "execution_count": 62,
     "metadata": {},
     "output_type": "execute_result"
    }
   ],
   "source": [
    "features['user_total_products'] = features['user_avg_basket_size']*features['user_orders']\n",
    "features.head()"
   ]
  },
  {
   "cell_type": "code",
   "execution_count": 63,
   "metadata": {},
   "outputs": [],
   "source": [
    "train_orders = orders.query('eval_set == \"train\"')\n",
    "test_orders = orders.query('eval_set == \"test\"')"
   ]
  },
  {
   "cell_type": "code",
   "execution_count": 64,
   "metadata": {},
   "outputs": [],
   "source": [
    "train_features = pd.merge(train_orders, features, on='user_id')\n",
    "test_features = pd.merge(test_orders, features, on='user_id')"
   ]
  },
  {
   "cell_type": "code",
   "execution_count": 65,
   "metadata": {},
   "outputs": [],
   "source": [
    "del train_orders\n",
    "del test_orders\n",
    "del features"
   ]
  },
  {
   "cell_type": "code",
   "execution_count": 66,
   "metadata": {},
   "outputs": [],
   "source": [
    "train_features.sort_values(['order_id','product_id'], inplace=True)\n",
    "test_features.sort_values(['order_id','product_id'], inplace=True)"
   ]
  },
  {
   "cell_type": "code",
   "execution_count": 67,
   "metadata": {},
   "outputs": [
    {
     "name": "stdout",
     "output_type": "stream",
     "text": [
      "(8474661, 22)\n"
     ]
    },
    {
     "data": {
      "text/html": [
       "<div>\n",
       "<style scoped>\n",
       "    .dataframe tbody tr th:only-of-type {\n",
       "        vertical-align: middle;\n",
       "    }\n",
       "\n",
       "    .dataframe tbody tr th {\n",
       "        vertical-align: top;\n",
       "    }\n",
       "\n",
       "    .dataframe thead th {\n",
       "        text-align: right;\n",
       "    }\n",
       "</style>\n",
       "<table border=\"1\" class=\"dataframe\">\n",
       "  <thead>\n",
       "    <tr style=\"text-align: right;\">\n",
       "      <th></th>\n",
       "      <th>order_id</th>\n",
       "      <th>user_id</th>\n",
       "      <th>eval_set</th>\n",
       "      <th>order_number</th>\n",
       "      <th>order_dow</th>\n",
       "      <th>order_hour_of_day</th>\n",
       "      <th>days_since_prior_order</th>\n",
       "      <th>user_product_reorder_rate</th>\n",
       "      <th>user_distinct_products</th>\n",
       "      <th>user_reordered_products</th>\n",
       "      <th>...</th>\n",
       "      <th>user_product_dsp</th>\n",
       "      <th>user_product_orders</th>\n",
       "      <th>product_id</th>\n",
       "      <th>user_avg_basket_size</th>\n",
       "      <th>user_reorder_rate</th>\n",
       "      <th>aisle_id</th>\n",
       "      <th>department_id</th>\n",
       "      <th>user_orders</th>\n",
       "      <th>user_order_dsp</th>\n",
       "      <th>user_total_products</th>\n",
       "    </tr>\n",
       "  </thead>\n",
       "  <tbody>\n",
       "    <tr>\n",
       "      <th>4629306</th>\n",
       "      <td>1</td>\n",
       "      <td>112108</td>\n",
       "      <td>train</td>\n",
       "      <td>4</td>\n",
       "      <td>4</td>\n",
       "      <td>10</td>\n",
       "      <td>9.0</td>\n",
       "      <td>0.333333</td>\n",
       "      <td>12</td>\n",
       "      <td>8.0</td>\n",
       "      <td>...</td>\n",
       "      <td>7.0</td>\n",
       "      <td>1</td>\n",
       "      <td>2067</td>\n",
       "      <td>8.0</td>\n",
       "      <td>0.666667</td>\n",
       "      <td>3</td>\n",
       "      <td>19</td>\n",
       "      <td>3</td>\n",
       "      <td>11.0</td>\n",
       "      <td>24.0</td>\n",
       "    </tr>\n",
       "    <tr>\n",
       "      <th>4629308</th>\n",
       "      <td>1</td>\n",
       "      <td>112108</td>\n",
       "      <td>train</td>\n",
       "      <td>4</td>\n",
       "      <td>4</td>\n",
       "      <td>10</td>\n",
       "      <td>9.0</td>\n",
       "      <td>0.666667</td>\n",
       "      <td>12</td>\n",
       "      <td>8.0</td>\n",
       "      <td>...</td>\n",
       "      <td>11.0</td>\n",
       "      <td>2</td>\n",
       "      <td>5707</td>\n",
       "      <td>6.5</td>\n",
       "      <td>0.666667</td>\n",
       "      <td>3</td>\n",
       "      <td>19</td>\n",
       "      <td>3</td>\n",
       "      <td>11.0</td>\n",
       "      <td>19.5</td>\n",
       "    </tr>\n",
       "    <tr>\n",
       "      <th>4629307</th>\n",
       "      <td>1</td>\n",
       "      <td>112108</td>\n",
       "      <td>train</td>\n",
       "      <td>4</td>\n",
       "      <td>4</td>\n",
       "      <td>10</td>\n",
       "      <td>9.0</td>\n",
       "      <td>0.666667</td>\n",
       "      <td>12</td>\n",
       "      <td>8.0</td>\n",
       "      <td>...</td>\n",
       "      <td>7.0</td>\n",
       "      <td>2</td>\n",
       "      <td>11109</td>\n",
       "      <td>8.0</td>\n",
       "      <td>0.666667</td>\n",
       "      <td>108</td>\n",
       "      <td>16</td>\n",
       "      <td>3</td>\n",
       "      <td>11.0</td>\n",
       "      <td>24.0</td>\n",
       "    </tr>\n",
       "    <tr>\n",
       "      <th>4629304</th>\n",
       "      <td>1</td>\n",
       "      <td>112108</td>\n",
       "      <td>train</td>\n",
       "      <td>4</td>\n",
       "      <td>4</td>\n",
       "      <td>10</td>\n",
       "      <td>9.0</td>\n",
       "      <td>1.000000</td>\n",
       "      <td>12</td>\n",
       "      <td>8.0</td>\n",
       "      <td>...</td>\n",
       "      <td>11.0</td>\n",
       "      <td>3</td>\n",
       "      <td>14947</td>\n",
       "      <td>7.0</td>\n",
       "      <td>0.666667</td>\n",
       "      <td>115</td>\n",
       "      <td>7</td>\n",
       "      <td>3</td>\n",
       "      <td>11.0</td>\n",
       "      <td>21.0</td>\n",
       "    </tr>\n",
       "    <tr>\n",
       "      <th>4629302</th>\n",
       "      <td>1</td>\n",
       "      <td>112108</td>\n",
       "      <td>train</td>\n",
       "      <td>4</td>\n",
       "      <td>4</td>\n",
       "      <td>10</td>\n",
       "      <td>9.0</td>\n",
       "      <td>0.666667</td>\n",
       "      <td>12</td>\n",
       "      <td>8.0</td>\n",
       "      <td>...</td>\n",
       "      <td>7.0</td>\n",
       "      <td>2</td>\n",
       "      <td>22035</td>\n",
       "      <td>8.0</td>\n",
       "      <td>0.666667</td>\n",
       "      <td>21</td>\n",
       "      <td>16</td>\n",
       "      <td>3</td>\n",
       "      <td>11.0</td>\n",
       "      <td>24.0</td>\n",
       "    </tr>\n",
       "  </tbody>\n",
       "</table>\n",
       "<p>5 rows × 22 columns</p>\n",
       "</div>"
      ],
      "text/plain": [
       "         order_id  user_id eval_set  order_number  order_dow  \\\n",
       "4629306         1   112108    train             4          4   \n",
       "4629308         1   112108    train             4          4   \n",
       "4629307         1   112108    train             4          4   \n",
       "4629304         1   112108    train             4          4   \n",
       "4629302         1   112108    train             4          4   \n",
       "\n",
       "         order_hour_of_day  days_since_prior_order  user_product_reorder_rate  \\\n",
       "4629306                 10                     9.0                   0.333333   \n",
       "4629308                 10                     9.0                   0.666667   \n",
       "4629307                 10                     9.0                   0.666667   \n",
       "4629304                 10                     9.0                   1.000000   \n",
       "4629302                 10                     9.0                   0.666667   \n",
       "\n",
       "         user_distinct_products  user_reordered_products  ...  \\\n",
       "4629306                      12                      8.0  ...   \n",
       "4629308                      12                      8.0  ...   \n",
       "4629307                      12                      8.0  ...   \n",
       "4629304                      12                      8.0  ...   \n",
       "4629302                      12                      8.0  ...   \n",
       "\n",
       "         user_product_dsp  user_product_orders  product_id  \\\n",
       "4629306               7.0                    1        2067   \n",
       "4629308              11.0                    2        5707   \n",
       "4629307               7.0                    2       11109   \n",
       "4629304              11.0                    3       14947   \n",
       "4629302               7.0                    2       22035   \n",
       "\n",
       "         user_avg_basket_size  user_reorder_rate  aisle_id  department_id  \\\n",
       "4629306                   8.0           0.666667         3             19   \n",
       "4629308                   6.5           0.666667         3             19   \n",
       "4629307                   8.0           0.666667       108             16   \n",
       "4629304                   7.0           0.666667       115              7   \n",
       "4629302                   8.0           0.666667        21             16   \n",
       "\n",
       "         user_orders  user_order_dsp  user_total_products  \n",
       "4629306            3            11.0                 24.0  \n",
       "4629308            3            11.0                 19.5  \n",
       "4629307            3            11.0                 24.0  \n",
       "4629304            3            11.0                 21.0  \n",
       "4629302            3            11.0                 24.0  \n",
       "\n",
       "[5 rows x 22 columns]"
      ]
     },
     "execution_count": 67,
     "metadata": {},
     "output_type": "execute_result"
    }
   ],
   "source": [
    "print(train_features.shape)\n",
    "train_features.head()"
   ]
  },
  {
   "cell_type": "code",
   "execution_count": 68,
   "metadata": {},
   "outputs": [
    {
     "name": "stdout",
     "output_type": "stream",
     "text": [
      "(4833292, 22)\n"
     ]
    },
    {
     "data": {
      "text/html": [
       "<div>\n",
       "<style scoped>\n",
       "    .dataframe tbody tr th:only-of-type {\n",
       "        vertical-align: middle;\n",
       "    }\n",
       "\n",
       "    .dataframe tbody tr th {\n",
       "        vertical-align: top;\n",
       "    }\n",
       "\n",
       "    .dataframe thead th {\n",
       "        text-align: right;\n",
       "    }\n",
       "</style>\n",
       "<table border=\"1\" class=\"dataframe\">\n",
       "  <thead>\n",
       "    <tr style=\"text-align: right;\">\n",
       "      <th></th>\n",
       "      <th>order_id</th>\n",
       "      <th>user_id</th>\n",
       "      <th>eval_set</th>\n",
       "      <th>order_number</th>\n",
       "      <th>order_dow</th>\n",
       "      <th>order_hour_of_day</th>\n",
       "      <th>days_since_prior_order</th>\n",
       "      <th>user_product_reorder_rate</th>\n",
       "      <th>user_distinct_products</th>\n",
       "      <th>user_reordered_products</th>\n",
       "      <th>...</th>\n",
       "      <th>user_product_dsp</th>\n",
       "      <th>user_product_orders</th>\n",
       "      <th>product_id</th>\n",
       "      <th>user_avg_basket_size</th>\n",
       "      <th>user_reorder_rate</th>\n",
       "      <th>aisle_id</th>\n",
       "      <th>department_id</th>\n",
       "      <th>user_orders</th>\n",
       "      <th>user_order_dsp</th>\n",
       "      <th>user_total_products</th>\n",
       "    </tr>\n",
       "  </thead>\n",
       "  <tbody>\n",
       "    <tr>\n",
       "      <th>858095</th>\n",
       "      <td>17</td>\n",
       "      <td>36855</td>\n",
       "      <td>test</td>\n",
       "      <td>5</td>\n",
       "      <td>6</td>\n",
       "      <td>15</td>\n",
       "      <td>1.0</td>\n",
       "      <td>0.25</td>\n",
       "      <td>21</td>\n",
       "      <td>5.0</td>\n",
       "      <td>...</td>\n",
       "      <td>30.0</td>\n",
       "      <td>1</td>\n",
       "      <td>1283</td>\n",
       "      <td>9.000000</td>\n",
       "      <td>0.238095</td>\n",
       "      <td>100</td>\n",
       "      <td>21</td>\n",
       "      <td>4</td>\n",
       "      <td>14.0</td>\n",
       "      <td>36.000000</td>\n",
       "    </tr>\n",
       "    <tr>\n",
       "      <th>858092</th>\n",
       "      <td>17</td>\n",
       "      <td>36855</td>\n",
       "      <td>test</td>\n",
       "      <td>5</td>\n",
       "      <td>6</td>\n",
       "      <td>15</td>\n",
       "      <td>1.0</td>\n",
       "      <td>0.25</td>\n",
       "      <td>21</td>\n",
       "      <td>5.0</td>\n",
       "      <td>...</td>\n",
       "      <td>6.0</td>\n",
       "      <td>1</td>\n",
       "      <td>6291</td>\n",
       "      <td>9.000000</td>\n",
       "      <td>0.238095</td>\n",
       "      <td>121</td>\n",
       "      <td>14</td>\n",
       "      <td>4</td>\n",
       "      <td>14.0</td>\n",
       "      <td>36.000000</td>\n",
       "    </tr>\n",
       "    <tr>\n",
       "      <th>858088</th>\n",
       "      <td>17</td>\n",
       "      <td>36855</td>\n",
       "      <td>test</td>\n",
       "      <td>5</td>\n",
       "      <td>6</td>\n",
       "      <td>15</td>\n",
       "      <td>1.0</td>\n",
       "      <td>0.25</td>\n",
       "      <td>21</td>\n",
       "      <td>5.0</td>\n",
       "      <td>...</td>\n",
       "      <td>NaN</td>\n",
       "      <td>1</td>\n",
       "      <td>7035</td>\n",
       "      <td>5.000000</td>\n",
       "      <td>0.238095</td>\n",
       "      <td>100</td>\n",
       "      <td>21</td>\n",
       "      <td>4</td>\n",
       "      <td>14.0</td>\n",
       "      <td>20.000000</td>\n",
       "    </tr>\n",
       "    <tr>\n",
       "      <th>858094</th>\n",
       "      <td>17</td>\n",
       "      <td>36855</td>\n",
       "      <td>test</td>\n",
       "      <td>5</td>\n",
       "      <td>6</td>\n",
       "      <td>15</td>\n",
       "      <td>1.0</td>\n",
       "      <td>0.25</td>\n",
       "      <td>21</td>\n",
       "      <td>5.0</td>\n",
       "      <td>...</td>\n",
       "      <td>NaN</td>\n",
       "      <td>1</td>\n",
       "      <td>11494</td>\n",
       "      <td>5.000000</td>\n",
       "      <td>0.238095</td>\n",
       "      <td>100</td>\n",
       "      <td>21</td>\n",
       "      <td>4</td>\n",
       "      <td>14.0</td>\n",
       "      <td>20.000000</td>\n",
       "    </tr>\n",
       "    <tr>\n",
       "      <th>858097</th>\n",
       "      <td>17</td>\n",
       "      <td>36855</td>\n",
       "      <td>test</td>\n",
       "      <td>5</td>\n",
       "      <td>6</td>\n",
       "      <td>15</td>\n",
       "      <td>1.0</td>\n",
       "      <td>0.75</td>\n",
       "      <td>21</td>\n",
       "      <td>5.0</td>\n",
       "      <td>...</td>\n",
       "      <td>14.0</td>\n",
       "      <td>3</td>\n",
       "      <td>13107</td>\n",
       "      <td>7.333333</td>\n",
       "      <td>0.238095</td>\n",
       "      <td>3</td>\n",
       "      <td>19</td>\n",
       "      <td>4</td>\n",
       "      <td>14.0</td>\n",
       "      <td>29.333333</td>\n",
       "    </tr>\n",
       "  </tbody>\n",
       "</table>\n",
       "<p>5 rows × 22 columns</p>\n",
       "</div>"
      ],
      "text/plain": [
       "        order_id  user_id eval_set  order_number  order_dow  \\\n",
       "858095        17    36855     test             5          6   \n",
       "858092        17    36855     test             5          6   \n",
       "858088        17    36855     test             5          6   \n",
       "858094        17    36855     test             5          6   \n",
       "858097        17    36855     test             5          6   \n",
       "\n",
       "        order_hour_of_day  days_since_prior_order  user_product_reorder_rate  \\\n",
       "858095                 15                     1.0                       0.25   \n",
       "858092                 15                     1.0                       0.25   \n",
       "858088                 15                     1.0                       0.25   \n",
       "858094                 15                     1.0                       0.25   \n",
       "858097                 15                     1.0                       0.75   \n",
       "\n",
       "        user_distinct_products  user_reordered_products  ...  \\\n",
       "858095                      21                      5.0  ...   \n",
       "858092                      21                      5.0  ...   \n",
       "858088                      21                      5.0  ...   \n",
       "858094                      21                      5.0  ...   \n",
       "858097                      21                      5.0  ...   \n",
       "\n",
       "        user_product_dsp  user_product_orders  product_id  \\\n",
       "858095              30.0                    1        1283   \n",
       "858092               6.0                    1        6291   \n",
       "858088               NaN                    1        7035   \n",
       "858094               NaN                    1       11494   \n",
       "858097              14.0                    3       13107   \n",
       "\n",
       "        user_avg_basket_size  user_reorder_rate  aisle_id  department_id  \\\n",
       "858095              9.000000           0.238095       100             21   \n",
       "858092              9.000000           0.238095       121             14   \n",
       "858088              5.000000           0.238095       100             21   \n",
       "858094              5.000000           0.238095       100             21   \n",
       "858097              7.333333           0.238095         3             19   \n",
       "\n",
       "        user_orders  user_order_dsp  user_total_products  \n",
       "858095            4            14.0            36.000000  \n",
       "858092            4            14.0            36.000000  \n",
       "858088            4            14.0            20.000000  \n",
       "858094            4            14.0            20.000000  \n",
       "858097            4            14.0            29.333333  \n",
       "\n",
       "[5 rows x 22 columns]"
      ]
     },
     "execution_count": 68,
     "metadata": {},
     "output_type": "execute_result"
    }
   ],
   "source": [
    "print(test_features.shape)\n",
    "test_features.head()"
   ]
  },
  {
   "cell_type": "code",
   "execution_count": 69,
   "metadata": {},
   "outputs": [],
   "source": [
    "train_features.drop(['eval_set','order_number'], axis=1, inplace=True)\n",
    "test_features.drop(['eval_set','order_number'], axis=1, inplace=True)"
   ]
  },
  {
   "cell_type": "markdown",
   "metadata": {},
   "source": [
    "### Making training labels"
   ]
  },
  {
   "cell_type": "code",
   "execution_count": 70,
   "metadata": {},
   "outputs": [
    {
     "name": "stdout",
     "output_type": "stream",
     "text": [
      "(1384617, 10)\n"
     ]
    },
    {
     "data": {
      "text/html": [
       "<div>\n",
       "<style scoped>\n",
       "    .dataframe tbody tr th:only-of-type {\n",
       "        vertical-align: middle;\n",
       "    }\n",
       "\n",
       "    .dataframe tbody tr th {\n",
       "        vertical-align: top;\n",
       "    }\n",
       "\n",
       "    .dataframe thead th {\n",
       "        text-align: right;\n",
       "    }\n",
       "</style>\n",
       "<table border=\"1\" class=\"dataframe\">\n",
       "  <thead>\n",
       "    <tr style=\"text-align: right;\">\n",
       "      <th></th>\n",
       "      <th>order_id</th>\n",
       "      <th>user_id</th>\n",
       "      <th>eval_set</th>\n",
       "      <th>order_number</th>\n",
       "      <th>order_dow</th>\n",
       "      <th>order_hour_of_day</th>\n",
       "      <th>days_since_prior_order</th>\n",
       "      <th>product_id</th>\n",
       "      <th>add_to_cart_order</th>\n",
       "      <th>reordered</th>\n",
       "    </tr>\n",
       "  </thead>\n",
       "  <tbody>\n",
       "    <tr>\n",
       "      <th>0</th>\n",
       "      <td>1187899</td>\n",
       "      <td>1</td>\n",
       "      <td>train</td>\n",
       "      <td>11</td>\n",
       "      <td>4</td>\n",
       "      <td>8</td>\n",
       "      <td>14.0</td>\n",
       "      <td>196</td>\n",
       "      <td>1</td>\n",
       "      <td>1</td>\n",
       "    </tr>\n",
       "    <tr>\n",
       "      <th>1</th>\n",
       "      <td>1187899</td>\n",
       "      <td>1</td>\n",
       "      <td>train</td>\n",
       "      <td>11</td>\n",
       "      <td>4</td>\n",
       "      <td>8</td>\n",
       "      <td>14.0</td>\n",
       "      <td>25133</td>\n",
       "      <td>2</td>\n",
       "      <td>1</td>\n",
       "    </tr>\n",
       "    <tr>\n",
       "      <th>2</th>\n",
       "      <td>1187899</td>\n",
       "      <td>1</td>\n",
       "      <td>train</td>\n",
       "      <td>11</td>\n",
       "      <td>4</td>\n",
       "      <td>8</td>\n",
       "      <td>14.0</td>\n",
       "      <td>38928</td>\n",
       "      <td>3</td>\n",
       "      <td>1</td>\n",
       "    </tr>\n",
       "    <tr>\n",
       "      <th>3</th>\n",
       "      <td>1187899</td>\n",
       "      <td>1</td>\n",
       "      <td>train</td>\n",
       "      <td>11</td>\n",
       "      <td>4</td>\n",
       "      <td>8</td>\n",
       "      <td>14.0</td>\n",
       "      <td>26405</td>\n",
       "      <td>4</td>\n",
       "      <td>1</td>\n",
       "    </tr>\n",
       "    <tr>\n",
       "      <th>4</th>\n",
       "      <td>1187899</td>\n",
       "      <td>1</td>\n",
       "      <td>train</td>\n",
       "      <td>11</td>\n",
       "      <td>4</td>\n",
       "      <td>8</td>\n",
       "      <td>14.0</td>\n",
       "      <td>39657</td>\n",
       "      <td>5</td>\n",
       "      <td>1</td>\n",
       "    </tr>\n",
       "  </tbody>\n",
       "</table>\n",
       "</div>"
      ],
      "text/plain": [
       "   order_id  user_id eval_set  order_number  order_dow  order_hour_of_day  \\\n",
       "0   1187899        1    train            11          4                  8   \n",
       "1   1187899        1    train            11          4                  8   \n",
       "2   1187899        1    train            11          4                  8   \n",
       "3   1187899        1    train            11          4                  8   \n",
       "4   1187899        1    train            11          4                  8   \n",
       "\n",
       "   days_since_prior_order  product_id  add_to_cart_order  reordered  \n",
       "0                    14.0         196                  1          1  \n",
       "1                    14.0       25133                  2          1  \n",
       "2                    14.0       38928                  3          1  \n",
       "3                    14.0       26405                  4          1  \n",
       "4                    14.0       39657                  5          1  "
      ]
     },
     "execution_count": 70,
     "metadata": {},
     "output_type": "execute_result"
    }
   ],
   "source": [
    "train_orders = orders[orders['eval_set']=='train']\n",
    "trainProducts = pd.merge(train_orders, trainingOrderItems, on='order_id')\n",
    "print(trainProducts.shape)\n",
    "trainProducts.head()"
   ]
  },
  {
   "cell_type": "code",
   "execution_count": 71,
   "metadata": {},
   "outputs": [
    {
     "data": {
      "text/plain": [
       "user_id\n",
       "1    {196, 26405, 27845, 46149, 13032, 39657, 26088...\n",
       "2    {24838, 11913, 45066, 31883, 48523, 38547, 248...\n",
       "5    {40706, 21413, 20843, 48204, 21616, 19057, 201...\n",
       "7    {17638, 29894, 47272, 45066, 13198, 37999, 408...\n",
       "8    {27104, 15937, 5539, 41540, 31717, 48230, 2224...\n",
       "Name: product_id, dtype: object"
      ]
     },
     "execution_count": 71,
     "metadata": {},
     "output_type": "execute_result"
    }
   ],
   "source": [
    "trainProducts = trainProducts.groupby('user_id')['product_id'].apply(set)\n",
    "trainProducts.head()"
   ]
  },
  {
   "cell_type": "code",
   "execution_count": 72,
   "metadata": {},
   "outputs": [
    {
     "name": "stderr",
     "output_type": "stream",
     "text": [
      "8474661it [03:28, 40660.89it/s]"
     ]
    },
    {
     "name": "stdout",
     "output_type": "stream",
     "text": [
      "(8474661, 20)\n"
     ]
    },
    {
     "name": "stderr",
     "output_type": "stream",
     "text": [
      "\n"
     ]
    }
   ],
   "source": [
    "from tqdm import tqdm\n",
    "\n",
    "trainLabels = []\n",
    "for row in tqdm(train_features.itertuples()):\n",
    "    trainLabels += [row.product_id in trainProducts[row.user_id]]\n",
    "    \n",
    "print(train_features.shape)"
   ]
  },
  {
   "cell_type": "code",
   "execution_count": 73,
   "metadata": {},
   "outputs": [
    {
     "data": {
      "text/plain": [
       "Index(['order_id', 'user_id', 'order_dow', 'order_hour_of_day',\n",
       "       'days_since_prior_order', 'user_product_reorder_rate',\n",
       "       'user_distinct_products', 'user_reordered_products', 'user_product_dow',\n",
       "       'user_product_hod', 'user_product_dsp', 'user_product_orders',\n",
       "       'product_id', 'user_avg_basket_size', 'user_reorder_rate', 'aisle_id',\n",
       "       'department_id', 'user_orders', 'user_order_dsp',\n",
       "       'user_total_products'],\n",
       "      dtype='object')"
      ]
     },
     "execution_count": 73,
     "metadata": {},
     "output_type": "execute_result"
    }
   ],
   "source": [
    "train_features.columns"
   ]
  },
  {
   "cell_type": "markdown",
   "metadata": {},
   "source": [
    "### Scaling the data using Min-Max Normalization"
   ]
  },
  {
   "cell_type": "code",
   "execution_count": 74,
   "metadata": {},
   "outputs": [],
   "source": [
    "feature_list=['user_avg_basket_size','days_since_prior_order','user_product_reorder_rate','user_product_dow',\n",
    "              'user_reordered_products','user_product_hod','user_product_dsp','user_product_orders',\n",
    "              'user_reorder_rate','user_distinct_products']\n",
    "\n",
    "train_features[feature_list] = (train_features[feature_list]-train_features[feature_list].mean())/((train_features[feature_list].max()-train_features[feature_list].min()))\n",
    "test_features[feature_list] = (test_features[feature_list]-test_features[feature_list].mean())/((test_features[feature_list].max()-test_features[feature_list].min()))"
   ]
  },
  {
   "cell_type": "code",
   "execution_count": 75,
   "metadata": {},
   "outputs": [
    {
     "name": "stdout",
     "output_type": "stream",
     "text": [
      "(8474661, 20)\n"
     ]
    },
    {
     "data": {
      "text/html": [
       "<div>\n",
       "<style scoped>\n",
       "    .dataframe tbody tr th:only-of-type {\n",
       "        vertical-align: middle;\n",
       "    }\n",
       "\n",
       "    .dataframe tbody tr th {\n",
       "        vertical-align: top;\n",
       "    }\n",
       "\n",
       "    .dataframe thead th {\n",
       "        text-align: right;\n",
       "    }\n",
       "</style>\n",
       "<table border=\"1\" class=\"dataframe\">\n",
       "  <thead>\n",
       "    <tr style=\"text-align: right;\">\n",
       "      <th></th>\n",
       "      <th>user_avg_basket_size</th>\n",
       "      <th>days_since_prior_order</th>\n",
       "      <th>user_product_reorder_rate</th>\n",
       "      <th>user_product_dow</th>\n",
       "      <th>user_reordered_products</th>\n",
       "      <th>user_product_hod</th>\n",
       "      <th>user_product_dsp</th>\n",
       "      <th>user_product_orders</th>\n",
       "      <th>user_reorder_rate</th>\n",
       "      <th>user_distinct_products</th>\n",
       "    </tr>\n",
       "  </thead>\n",
       "  <tbody>\n",
       "    <tr>\n",
       "      <th>4629306</th>\n",
       "      <td>-0.052874</td>\n",
       "      <td>-0.178176</td>\n",
       "      <td>0.181188</td>\n",
       "      <td>-0.292511</td>\n",
       "      <td>-0.098748</td>\n",
       "      <td>-0.153366</td>\n",
       "      <td>-0.189770</td>\n",
       "      <td>-0.014650</td>\n",
       "      <td>0.268539</td>\n",
       "      <td>-0.140862</td>\n",
       "    </tr>\n",
       "    <tr>\n",
       "      <th>4629308</th>\n",
       "      <td>-0.063290</td>\n",
       "      <td>-0.178176</td>\n",
       "      <td>0.517923</td>\n",
       "      <td>-0.209177</td>\n",
       "      <td>-0.098748</td>\n",
       "      <td>0.085764</td>\n",
       "      <td>-0.056437</td>\n",
       "      <td>-0.004446</td>\n",
       "      <td>0.268539</td>\n",
       "      <td>-0.140862</td>\n",
       "    </tr>\n",
       "    <tr>\n",
       "      <th>4629307</th>\n",
       "      <td>-0.052874</td>\n",
       "      <td>-0.178176</td>\n",
       "      <td>0.517923</td>\n",
       "      <td>-0.292511</td>\n",
       "      <td>-0.098748</td>\n",
       "      <td>-0.066409</td>\n",
       "      <td>-0.189770</td>\n",
       "      <td>-0.004446</td>\n",
       "      <td>0.268539</td>\n",
       "      <td>-0.140862</td>\n",
       "    </tr>\n",
       "    <tr>\n",
       "      <th>4629304</th>\n",
       "      <td>-0.059818</td>\n",
       "      <td>-0.178176</td>\n",
       "      <td>0.854658</td>\n",
       "      <td>-0.236955</td>\n",
       "      <td>-0.098748</td>\n",
       "      <td>0.064025</td>\n",
       "      <td>-0.056437</td>\n",
       "      <td>0.005758</td>\n",
       "      <td>0.268539</td>\n",
       "      <td>-0.140862</td>\n",
       "    </tr>\n",
       "    <tr>\n",
       "      <th>4629302</th>\n",
       "      <td>-0.052874</td>\n",
       "      <td>-0.178176</td>\n",
       "      <td>0.517923</td>\n",
       "      <td>-0.292511</td>\n",
       "      <td>-0.098748</td>\n",
       "      <td>-0.066409</td>\n",
       "      <td>-0.189770</td>\n",
       "      <td>-0.004446</td>\n",
       "      <td>0.268539</td>\n",
       "      <td>-0.140862</td>\n",
       "    </tr>\n",
       "  </tbody>\n",
       "</table>\n",
       "</div>"
      ],
      "text/plain": [
       "         user_avg_basket_size  days_since_prior_order  \\\n",
       "4629306             -0.052874               -0.178176   \n",
       "4629308             -0.063290               -0.178176   \n",
       "4629307             -0.052874               -0.178176   \n",
       "4629304             -0.059818               -0.178176   \n",
       "4629302             -0.052874               -0.178176   \n",
       "\n",
       "         user_product_reorder_rate  user_product_dow  user_reordered_products  \\\n",
       "4629306                   0.181188         -0.292511                -0.098748   \n",
       "4629308                   0.517923         -0.209177                -0.098748   \n",
       "4629307                   0.517923         -0.292511                -0.098748   \n",
       "4629304                   0.854658         -0.236955                -0.098748   \n",
       "4629302                   0.517923         -0.292511                -0.098748   \n",
       "\n",
       "         user_product_hod  user_product_dsp  user_product_orders  \\\n",
       "4629306         -0.153366         -0.189770            -0.014650   \n",
       "4629308          0.085764         -0.056437            -0.004446   \n",
       "4629307         -0.066409         -0.189770            -0.004446   \n",
       "4629304          0.064025         -0.056437             0.005758   \n",
       "4629302         -0.066409         -0.189770            -0.004446   \n",
       "\n",
       "         user_reorder_rate  user_distinct_products  \n",
       "4629306           0.268539               -0.140862  \n",
       "4629308           0.268539               -0.140862  \n",
       "4629307           0.268539               -0.140862  \n",
       "4629304           0.268539               -0.140862  \n",
       "4629302           0.268539               -0.140862  "
      ]
     },
     "execution_count": 75,
     "metadata": {},
     "output_type": "execute_result"
    }
   ],
   "source": [
    "print(train_features.shape)\n",
    "train_features[feature_list].head()"
   ]
  },
  {
   "cell_type": "code",
   "execution_count": 76,
   "metadata": {},
   "outputs": [
    {
     "name": "stdout",
     "output_type": "stream",
     "text": [
      "(4833292, 20)\n"
     ]
    },
    {
     "data": {
      "text/html": [
       "<div>\n",
       "<style scoped>\n",
       "    .dataframe tbody tr th:only-of-type {\n",
       "        vertical-align: middle;\n",
       "    }\n",
       "\n",
       "    .dataframe tbody tr th {\n",
       "        vertical-align: top;\n",
       "    }\n",
       "\n",
       "    .dataframe thead th {\n",
       "        text-align: right;\n",
       "    }\n",
       "</style>\n",
       "<table border=\"1\" class=\"dataframe\">\n",
       "  <thead>\n",
       "    <tr style=\"text-align: right;\">\n",
       "      <th></th>\n",
       "      <th>user_avg_basket_size</th>\n",
       "      <th>days_since_prior_order</th>\n",
       "      <th>user_product_reorder_rate</th>\n",
       "      <th>user_product_dow</th>\n",
       "      <th>user_reordered_products</th>\n",
       "      <th>user_product_hod</th>\n",
       "      <th>user_product_dsp</th>\n",
       "      <th>user_product_orders</th>\n",
       "      <th>user_reorder_rate</th>\n",
       "      <th>user_distinct_products</th>\n",
       "    </tr>\n",
       "  </thead>\n",
       "  <tbody>\n",
       "    <tr>\n",
       "      <th>858095</th>\n",
       "      <td>-0.061448</td>\n",
       "      <td>-0.446237</td>\n",
       "      <td>0.096375</td>\n",
       "      <td>-0.458892</td>\n",
       "      <td>-0.14103</td>\n",
       "      <td>-0.196971</td>\n",
       "      <td>0.576189</td>\n",
       "      <td>-0.014692</td>\n",
       "      <td>-0.16614</td>\n",
       "      <td>-0.145215</td>\n",
       "    </tr>\n",
       "    <tr>\n",
       "      <th>858092</th>\n",
       "      <td>-0.061448</td>\n",
       "      <td>-0.446237</td>\n",
       "      <td>0.096375</td>\n",
       "      <td>0.541108</td>\n",
       "      <td>-0.14103</td>\n",
       "      <td>0.020420</td>\n",
       "      <td>-0.223811</td>\n",
       "      <td>-0.014692</td>\n",
       "      <td>-0.16614</td>\n",
       "      <td>-0.145215</td>\n",
       "    </tr>\n",
       "    <tr>\n",
       "      <th>858088</th>\n",
       "      <td>-0.098485</td>\n",
       "      <td>-0.446237</td>\n",
       "      <td>0.096375</td>\n",
       "      <td>-0.292225</td>\n",
       "      <td>-0.14103</td>\n",
       "      <td>-0.023058</td>\n",
       "      <td>NaN</td>\n",
       "      <td>-0.014692</td>\n",
       "      <td>-0.16614</td>\n",
       "      <td>-0.145215</td>\n",
       "    </tr>\n",
       "    <tr>\n",
       "      <th>858094</th>\n",
       "      <td>-0.098485</td>\n",
       "      <td>-0.446237</td>\n",
       "      <td>0.096375</td>\n",
       "      <td>-0.292225</td>\n",
       "      <td>-0.14103</td>\n",
       "      <td>-0.023058</td>\n",
       "      <td>NaN</td>\n",
       "      <td>-0.014692</td>\n",
       "      <td>-0.16614</td>\n",
       "      <td>-0.145215</td>\n",
       "    </tr>\n",
       "    <tr>\n",
       "      <th>858097</th>\n",
       "      <td>-0.076880</td>\n",
       "      <td>-0.446237</td>\n",
       "      <td>0.601477</td>\n",
       "      <td>0.152219</td>\n",
       "      <td>-0.14103</td>\n",
       "      <td>-0.066536</td>\n",
       "      <td>0.042856</td>\n",
       "      <td>0.005716</td>\n",
       "      <td>-0.16614</td>\n",
       "      <td>-0.145215</td>\n",
       "    </tr>\n",
       "  </tbody>\n",
       "</table>\n",
       "</div>"
      ],
      "text/plain": [
       "        user_avg_basket_size  days_since_prior_order  \\\n",
       "858095             -0.061448               -0.446237   \n",
       "858092             -0.061448               -0.446237   \n",
       "858088             -0.098485               -0.446237   \n",
       "858094             -0.098485               -0.446237   \n",
       "858097             -0.076880               -0.446237   \n",
       "\n",
       "        user_product_reorder_rate  user_product_dow  user_reordered_products  \\\n",
       "858095                   0.096375         -0.458892                 -0.14103   \n",
       "858092                   0.096375          0.541108                 -0.14103   \n",
       "858088                   0.096375         -0.292225                 -0.14103   \n",
       "858094                   0.096375         -0.292225                 -0.14103   \n",
       "858097                   0.601477          0.152219                 -0.14103   \n",
       "\n",
       "        user_product_hod  user_product_dsp  user_product_orders  \\\n",
       "858095         -0.196971          0.576189            -0.014692   \n",
       "858092          0.020420         -0.223811            -0.014692   \n",
       "858088         -0.023058               NaN            -0.014692   \n",
       "858094         -0.023058               NaN            -0.014692   \n",
       "858097         -0.066536          0.042856             0.005716   \n",
       "\n",
       "        user_reorder_rate  user_distinct_products  \n",
       "858095           -0.16614               -0.145215  \n",
       "858092           -0.16614               -0.145215  \n",
       "858088           -0.16614               -0.145215  \n",
       "858094           -0.16614               -0.145215  \n",
       "858097           -0.16614               -0.145215  "
      ]
     },
     "execution_count": 76,
     "metadata": {},
     "output_type": "execute_result"
    }
   ],
   "source": [
    "print(test_features.shape)\n",
    "test_features[feature_list].head()"
   ]
  },
  {
   "cell_type": "code",
   "execution_count": 77,
   "metadata": {},
   "outputs": [
    {
     "name": "stdout",
     "output_type": "stream",
     "text": [
      "[[-0.05287379 -0.17817632  0.1811884  -0.29251074 -0.09874768 -0.15336596\n",
      "  -0.18977016 -0.01465031  0.26853874 -0.14086191]\n",
      " [-0.06329045 -0.17817632  0.51792309 -0.20917741 -0.09874768  0.08576447\n",
      "  -0.05643682 -0.00444623  0.26853874 -0.14086191]\n",
      " [-0.05287379 -0.17817632  0.51792309 -0.29251074 -0.09874768 -0.06640944\n",
      "  -0.18977016 -0.00444623  0.26853874 -0.14086191]\n",
      " [-0.05981823 -0.17817632  0.85465778 -0.23695518 -0.09874768  0.06402534\n",
      "  -0.05643682  0.00575785  0.26853874 -0.14086191]\n",
      " [-0.05287379 -0.17817632  0.51792309 -0.29251074 -0.09874768 -0.06640944\n",
      "  -0.18977016 -0.00444623  0.26853874 -0.14086191]]\n",
      "[0 0 1 0 1]\n"
     ]
    }
   ],
   "source": [
    "X_train = train_features[feature_list].fillna(0).values[:500000]\n",
    "Y_train = np.array(trainLabels).astype('int8')[:500000]\n",
    "\n",
    "print (X_train[:5])\n",
    "print(Y_train[:5])"
   ]
  },
  {
   "cell_type": "markdown",
   "metadata": {},
   "source": [
    "## Results <a id=\"results\"></a>\n",
    "\n",
    "### Defining the model architecture"
   ]
  },
  {
   "cell_type": "code",
   "execution_count": 78,
   "metadata": {},
   "outputs": [
    {
     "name": "stderr",
     "output_type": "stream",
     "text": [
      "Using TensorFlow backend.\n"
     ]
    }
   ],
   "source": [
    "from tensorflow.keras.models import Sequential\n",
    "from tensorflow.keras.layers import Dense\n",
    "from tensorflow.keras import optimizers\n",
    "from keras_tqdm import TQDMNotebookCallback\n",
    "from tensorflow.keras.callbacks import ModelCheckpoint\n",
    "from tensorflow.keras.callbacks import EarlyStopping"
   ]
  },
  {
   "cell_type": "code",
   "execution_count": 79,
   "metadata": {},
   "outputs": [
    {
     "name": "stdout",
     "output_type": "stream",
     "text": [
      "Model: \"sequential\"\n",
      "_________________________________________________________________\n",
      "Layer (type)                 Output Shape              Param #   \n",
      "=================================================================\n",
      "dense (Dense)                (None, 10)                110       \n",
      "_________________________________________________________________\n",
      "dense_1 (Dense)              (None, 128)               1408      \n",
      "_________________________________________________________________\n",
      "dense_2 (Dense)              (None, 128)               16512     \n",
      "_________________________________________________________________\n",
      "dense_3 (Dense)              (None, 128)               16512     \n",
      "_________________________________________________________________\n",
      "dense_4 (Dense)              (None, 128)               16512     \n",
      "_________________________________________________________________\n",
      "dense_5 (Dense)              (None, 128)               16512     \n",
      "_________________________________________________________________\n",
      "dense_6 (Dense)              (None, 1)                 129       \n",
      "=================================================================\n",
      "Total params: 67,695\n",
      "Trainable params: 67,695\n",
      "Non-trainable params: 0\n",
      "_________________________________________________________________\n"
     ]
    }
   ],
   "source": [
    "np.random.seed(9)\n",
    "\n",
    "model = Sequential()\n",
    "model.add(Dense(10, input_dim=len(feature_list), activation='relu'))\n",
    "model.add(Dense(128, activation='relu'))\n",
    "model.add(Dense(128, activation='relu'))\n",
    "model.add(Dense(128, activation='relu'))\n",
    "model.add(Dense(128, activation='relu'))\n",
    "model.add(Dense(128, activation='relu'))\n",
    "model.add(Dense(1, activation='sigmoid'))\n",
    "\n",
    "model.compile(loss='binary_crossentropy', optimizer='adam', metrics=['accuracy'])\n",
    "model.summary()\n",
    "\n",
    "# define the checkpoint\n",
    "filepath = \"model.h5\"\n",
    "checkpoint = ModelCheckpoint(filepath, monitor='loss', verbose=1, save_best_only=True, mode='min')\n",
    "callbacks_list = [checkpoint]"
   ]
  },
  {
   "cell_type": "markdown",
   "metadata": {},
   "source": [
    "#### Training and Evaluate"
   ]
  },
  {
   "cell_type": "code",
   "execution_count": 80,
   "metadata": {},
   "outputs": [
    {
     "name": "stderr",
     "output_type": "stream",
     "text": [
      "WARNING: Logging before flag parsing goes to stderr.\n",
      "W0901 15:18:46.325304 4494882240 deprecation.py:323] From /anaconda3/lib/python3.7/site-packages/tensorflow/python/ops/math_grad.py:1250: add_dispatch_support.<locals>.wrapper (from tensorflow.python.ops.array_ops) is deprecated and will be removed in a future version.\n",
      "Instructions for updating:\n",
      "Use tf.where in 2.0, which has the same broadcast rule as np.where\n"
     ]
    },
    {
     "name": "stdout",
     "output_type": "stream",
     "text": [
      "Train on 500000 samples\n",
      "Epoch 1/10\n",
      "499904/500000 [============================>.] - ETA: 0s - loss: 0.2680 - accuracy: 0.9070\n",
      "Epoch 00001: loss improved from inf to 0.26802, saving model to model.h5\n",
      "500000/500000 [==============================] - 43s 86us/sample - loss: 0.2680 - accuracy: 0.9070\n",
      "Epoch 2/10\n",
      "499616/500000 [============================>.] - ETA: 0s - loss: 0.2652 - accuracy: 0.9074\n",
      "Epoch 00002: loss improved from 0.26802 to 0.26513, saving model to model.h5\n",
      "500000/500000 [==============================] - 41s 82us/sample - loss: 0.2651 - accuracy: 0.9074\n",
      "Epoch 3/10\n",
      "499456/500000 [============================>.] - ETA: 0s - loss: 0.2645 - accuracy: 0.9077\n",
      "Epoch 00003: loss improved from 0.26513 to 0.26449, saving model to model.h5\n",
      "500000/500000 [==============================] - 41s 83us/sample - loss: 0.2645 - accuracy: 0.9077\n",
      "Epoch 4/10\n",
      "499616/500000 [============================>.] - ETA: 0s - loss: 0.2641 - accuracy: 0.9077\n",
      "Epoch 00004: loss improved from 0.26449 to 0.26410, saving model to model.h5\n",
      "500000/500000 [==============================] - 42s 84us/sample - loss: 0.2641 - accuracy: 0.9077\n",
      "Epoch 5/10\n",
      "499872/500000 [============================>.] - ETA: 0s - loss: 0.2639 - accuracy: 0.9077\n",
      "Epoch 00005: loss improved from 0.26410 to 0.26389, saving model to model.h5\n",
      "500000/500000 [==============================] - 43s 85us/sample - loss: 0.2639 - accuracy: 0.9077\n",
      "Epoch 6/10\n",
      "499776/500000 [============================>.] - ETA: 0s - loss: 0.2638 - accuracy: 0.9077\n",
      "Epoch 00006: loss improved from 0.26389 to 0.26378, saving model to model.h5\n",
      "500000/500000 [==============================] - 42s 84us/sample - loss: 0.2638 - accuracy: 0.9077\n",
      "Epoch 7/10\n",
      "499616/500000 [============================>.] - ETA: 0s - loss: 0.2636 - accuracy: 0.9078\n",
      "Epoch 00007: loss improved from 0.26378 to 0.26361, saving model to model.h5\n",
      "500000/500000 [==============================] - 43s 86us/sample - loss: 0.2636 - accuracy: 0.9078\n",
      "Epoch 8/10\n",
      "499424/500000 [============================>.] - ETA: 0s - loss: 0.2635 - accuracy: 0.9078\n",
      "Epoch 00008: loss improved from 0.26361 to 0.26347, saving model to model.h5\n",
      "500000/500000 [==============================] - 43s 86us/sample - loss: 0.2635 - accuracy: 0.9078\n",
      "Epoch 9/10\n",
      "499584/500000 [============================>.] - ETA: 0s - loss: 0.2635 - accuracy: 0.9079\n",
      "Epoch 00009: loss improved from 0.26347 to 0.26346, saving model to model.h5\n",
      "500000/500000 [==============================] - 43s 86us/sample - loss: 0.2635 - accuracy: 0.9079\n",
      "Epoch 10/10\n",
      "499936/500000 [============================>.] - ETA: 0s - loss: 0.2634 - accuracy: 0.9078 ETA: 0s - los\n",
      "Epoch 00010: loss improved from 0.26346 to 0.26339, saving model to model.h5\n",
      "500000/500000 [==============================] - 43s 86us/sample - loss: 0.2634 - accuracy: 0.9078\n",
      "\n",
      "accuracy: 90.80%\n"
     ]
    }
   ],
   "source": [
    "# fit the model\n",
    "model.fit(X_train, Y_train, epochs=10, callbacks=callbacks_list)\n",
    "\n",
    "scores = model.evaluate(X_train, Y_train, verbose=0)\n",
    "print(\"\\n%s: %.2f%%\" % (model.metrics_names[1], scores[1]*100))"
   ]
  },
  {
   "cell_type": "markdown",
   "metadata": {},
   "source": [
    "### Training dataset lables"
   ]
  },
  {
   "cell_type": "code",
   "execution_count": 81,
   "metadata": {},
   "outputs": [
    {
     "name": "stdout",
     "output_type": "stream",
     "text": [
      "(500000, 1)\n"
     ]
    }
   ],
   "source": [
    "X_test_trained = train_features[feature_list].fillna(0).values[500000:1000000]\n",
    "Y_test_trained = np.array(trainLabels).astype('int8')[500000:1000000]\n",
    "\n",
    "trained_preds = model.predict(X_test_trained)\n",
    "print(trained_preds.shape)\n",
    "# saving the result\n",
    "output = {}\n",
    "i = 0\n",
    "for row in train_features[500000:1000000].itertuples():\n",
    "    if row.order_id in output.keys():\n",
    "        if (trained_preds[i]>.2):\n",
    "            temp = output.get(row.order_id, [])\n",
    "            temp.append(row.product_id)\n",
    "            output[row.order_id] = temp\n",
    "    else:\n",
    "        if (trained_preds[i]>.2):\n",
    "            output[row.order_id] = [row.product_id]\n",
    "    i+=1\n",
    "\n",
    "with open('trained_prediction.csv', 'w') as csv_file:\n",
    "    writer = csv.writer(csv_file)\n",
    "    for key, value in output.items():\n",
    "       writer.writerow([key, value])"
   ]
  },
  {
   "cell_type": "markdown",
   "metadata": {},
   "source": [
    "### F-Score"
   ]
  },
  {
   "cell_type": "code",
   "execution_count": 82,
   "metadata": {},
   "outputs": [
    {
     "name": "stdout",
     "output_type": "stream",
     "text": [
      "19961 417496 33819 28724\n",
      "0.38961596642756063\n"
     ]
    }
   ],
   "source": [
    "truePositive = 0\n",
    "falsePositive = 0\n",
    "falseNegative=0\n",
    "trueNegative=0\n",
    "\n",
    "def f_score(truePositive, falseNegative, falsePositive, beta=1):\n",
    "    return ((1+beta**2)*truePositive)/(((1+beta**2)*truePositive)+beta**2*falseNegative+falsePositive)\n",
    "\n",
    "for i in range(len(trained_preds)):\n",
    "    if trained_preds[i] > .2:\n",
    "        if (Y_test_trained)[i] == 1:\n",
    "            truePositive +=1\n",
    "        else:\n",
    "            falsePositive+=1\n",
    "    else:\n",
    "        if (Y_test_trained)[i] == 1:\n",
    "            falseNegative+=1\n",
    "        else:\n",
    "            trueNegative+=1\n",
    "\n",
    "print(truePositive, trueNegative, falsePositive, falseNegative)\n",
    "print(f_score(truePositive, falseNegative, falsePositive))"
   ]
  },
  {
   "cell_type": "markdown",
   "metadata": {},
   "source": [
    "### Prediction for our test dataset"
   ]
  },
  {
   "cell_type": "code",
   "execution_count": 83,
   "metadata": {},
   "outputs": [
    {
     "data": {
      "text/plain": [
       "array([[0.20823574],\n",
       "       [0.075091  ],\n",
       "       [0.0955148 ],\n",
       "       ...,\n",
       "       [0.08333373],\n",
       "       [0.13769962],\n",
       "       [0.08333373]], dtype=float32)"
      ]
     },
     "execution_count": 83,
     "metadata": {},
     "output_type": "execute_result"
    }
   ],
   "source": [
    "X_test = test_features[feature_list].fillna(0).values\n",
    "\n",
    "test_preds = model.predict(X_test)\n",
    "test_preds"
   ]
  },
  {
   "cell_type": "code",
   "execution_count": 84,
   "metadata": {},
   "outputs": [
    {
     "data": {
      "text/plain": [
       "(4833292, 1)"
      ]
     },
     "execution_count": 84,
     "metadata": {},
     "output_type": "execute_result"
    }
   ],
   "source": [
    "test_preds.shape"
   ]
  },
  {
   "cell_type": "markdown",
   "metadata": {},
   "source": [
    "#### Saving the result"
   ]
  },
  {
   "cell_type": "code",
   "execution_count": 85,
   "metadata": {},
   "outputs": [],
   "source": [
    "output = {}\n",
    "i = 0\n",
    "for row in test_features.itertuples():\n",
    "    if row.order_id in output.keys():\n",
    "        if (test_preds[i]>.2):\n",
    "            temp = output.get(row.order_id, [])\n",
    "            temp.append(row.product_id)\n",
    "            output[row.order_id] = temp\n",
    "    else:\n",
    "        if (test_preds[i]>.2):\n",
    "            output[row.order_id] = [row.product_id]\n",
    "    i+=1"
   ]
  },
  {
   "cell_type": "code",
   "execution_count": 86,
   "metadata": {},
   "outputs": [],
   "source": [
    "with open('prediction.csv', 'w') as csv_file:\n",
    "    writer = csv.writer(csv_file)\n",
    "    for key, value in output.items():\n",
    "       writer.writerow([key, value])"
   ]
  },
  {
   "cell_type": "markdown",
   "metadata": {},
   "source": [
    "### Justification\n",
    "\n",
    "F-Score of our model is **0.38838** and F-Score of benchmark model is **0.40972**. So we can confidently say our final model and solution is significant enough to have adequately solved the problem."
   ]
  },
  {
   "cell_type": "markdown",
   "metadata": {},
   "source": [
    "## Conclusion <a id=\"conclusion\"></a>\n",
    "\n",
    "### Reflection\n",
    "\n",
    "After doing initial data exploration I was stuck how data provided can be used to make prediction, then came across feature extraction which is a must for this project to provide right input data for model and create training-labels out of those extracted data.\n",
    "\n",
    "### Improvement\n",
    "\n",
    "We could improve performance of our model by extracting more complex correlated features and using algorithms such as XGBoost."
   ]
  }
 ],
 "metadata": {
  "kernelspec": {
   "display_name": "Python 3",
   "language": "python",
   "name": "python3"
  },
  "language_info": {
   "codemirror_mode": {
    "name": "ipython",
    "version": 3
   },
   "file_extension": ".py",
   "mimetype": "text/x-python",
   "name": "python",
   "nbconvert_exporter": "python",
   "pygments_lexer": "ipython3",
   "version": "3.7.3"
  }
 },
 "nbformat": 4,
 "nbformat_minor": 2
}
